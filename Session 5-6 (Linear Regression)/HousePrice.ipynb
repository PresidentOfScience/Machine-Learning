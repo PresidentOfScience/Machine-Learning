{
  "cells": [
    {
      "cell_type": "markdown",
      "metadata": {
        "id": "C89QzkaElHGp"
      },
      "source": [
        "## **Assignment 2 - Machine Learning - LB01**\n",
        "### **Fendy Wijaya - 2602092150**"
      ]
    },
    {
      "cell_type": "markdown",
      "source": [
        "###Import Library and CSV File"
      ],
      "metadata": {
        "id": "aAgMSJIdlbS9"
      }
    },
    {
      "cell_type": "code",
      "execution_count": null,
      "metadata": {
        "id": "S0TTfEQalHGv"
      },
      "outputs": [],
      "source": [
        "import numpy as np\n",
        "import pandas as pd\n",
        "import seaborn as sns\n",
        "from math import sqrt\n",
        "from scipy.stats import skew\n",
        "import matplotlib.pyplot as plt\n",
        "from sklearn import linear_model\n",
        "from sklearn import preprocessing\n",
        "from sklearn.model_selection import train_test_split\n",
        "from sklearn.metrics import mean_absolute_error, mean_squared_error"
      ]
    },
    {
      "cell_type": "code",
      "execution_count": null,
      "metadata": {
        "id": "3ZlSKbcOlHGx"
      },
      "outputs": [],
      "source": [
        "train = pd.read_csv('train.csv')"
      ]
    },
    {
      "cell_type": "markdown",
      "source": [
        "###Data Identification"
      ],
      "metadata": {
        "id": "navk5ZwKl7Gw"
      }
    },
    {
      "cell_type": "markdown",
      "source": [
        "Data identification merupakan deskripsi gambaran awal terhadap data yang digunakan sebagai langkah awal sebelum memulai analisis terhadap data."
      ],
      "metadata": {
        "id": "WongDWkOoL-B"
      }
    },
    {
      "cell_type": "code",
      "execution_count": null,
      "metadata": {
        "id": "LmhU4ggLlHGx",
        "outputId": "b5028ce8-b719-43fe-f139-1d3d37506440"
      },
      "outputs": [
        {
          "data": {
            "text/html": [
              "<div>\n",
              "<style scoped>\n",
              "    .dataframe tbody tr th:only-of-type {\n",
              "        vertical-align: middle;\n",
              "    }\n",
              "\n",
              "    .dataframe tbody tr th {\n",
              "        vertical-align: top;\n",
              "    }\n",
              "\n",
              "    .dataframe thead th {\n",
              "        text-align: right;\n",
              "    }\n",
              "</style>\n",
              "<table border=\"1\" class=\"dataframe\">\n",
              "  <thead>\n",
              "    <tr style=\"text-align: right;\">\n",
              "      <th></th>\n",
              "      <th>Id</th>\n",
              "      <th>MSSubClass</th>\n",
              "      <th>MSZoning</th>\n",
              "      <th>LotFrontage</th>\n",
              "      <th>LotArea</th>\n",
              "      <th>Street</th>\n",
              "      <th>Alley</th>\n",
              "      <th>LotShape</th>\n",
              "      <th>LandContour</th>\n",
              "      <th>Utilities</th>\n",
              "      <th>...</th>\n",
              "      <th>PoolArea</th>\n",
              "      <th>PoolQC</th>\n",
              "      <th>Fence</th>\n",
              "      <th>MiscFeature</th>\n",
              "      <th>MiscVal</th>\n",
              "      <th>MoSold</th>\n",
              "      <th>YrSold</th>\n",
              "      <th>SaleType</th>\n",
              "      <th>SaleCondition</th>\n",
              "      <th>SalePrice</th>\n",
              "    </tr>\n",
              "  </thead>\n",
              "  <tbody>\n",
              "    <tr>\n",
              "      <th>0</th>\n",
              "      <td>1</td>\n",
              "      <td>60</td>\n",
              "      <td>RL</td>\n",
              "      <td>65.0</td>\n",
              "      <td>8450</td>\n",
              "      <td>Pave</td>\n",
              "      <td>NaN</td>\n",
              "      <td>Reg</td>\n",
              "      <td>Lvl</td>\n",
              "      <td>AllPub</td>\n",
              "      <td>...</td>\n",
              "      <td>0</td>\n",
              "      <td>NaN</td>\n",
              "      <td>NaN</td>\n",
              "      <td>NaN</td>\n",
              "      <td>0</td>\n",
              "      <td>2</td>\n",
              "      <td>2008</td>\n",
              "      <td>WD</td>\n",
              "      <td>Normal</td>\n",
              "      <td>208500</td>\n",
              "    </tr>\n",
              "    <tr>\n",
              "      <th>1</th>\n",
              "      <td>2</td>\n",
              "      <td>20</td>\n",
              "      <td>RL</td>\n",
              "      <td>80.0</td>\n",
              "      <td>9600</td>\n",
              "      <td>Pave</td>\n",
              "      <td>NaN</td>\n",
              "      <td>Reg</td>\n",
              "      <td>Lvl</td>\n",
              "      <td>AllPub</td>\n",
              "      <td>...</td>\n",
              "      <td>0</td>\n",
              "      <td>NaN</td>\n",
              "      <td>NaN</td>\n",
              "      <td>NaN</td>\n",
              "      <td>0</td>\n",
              "      <td>5</td>\n",
              "      <td>2007</td>\n",
              "      <td>WD</td>\n",
              "      <td>Normal</td>\n",
              "      <td>181500</td>\n",
              "    </tr>\n",
              "    <tr>\n",
              "      <th>2</th>\n",
              "      <td>3</td>\n",
              "      <td>60</td>\n",
              "      <td>RL</td>\n",
              "      <td>68.0</td>\n",
              "      <td>11250</td>\n",
              "      <td>Pave</td>\n",
              "      <td>NaN</td>\n",
              "      <td>IR1</td>\n",
              "      <td>Lvl</td>\n",
              "      <td>AllPub</td>\n",
              "      <td>...</td>\n",
              "      <td>0</td>\n",
              "      <td>NaN</td>\n",
              "      <td>NaN</td>\n",
              "      <td>NaN</td>\n",
              "      <td>0</td>\n",
              "      <td>9</td>\n",
              "      <td>2008</td>\n",
              "      <td>WD</td>\n",
              "      <td>Normal</td>\n",
              "      <td>223500</td>\n",
              "    </tr>\n",
              "    <tr>\n",
              "      <th>3</th>\n",
              "      <td>4</td>\n",
              "      <td>70</td>\n",
              "      <td>RL</td>\n",
              "      <td>60.0</td>\n",
              "      <td>9550</td>\n",
              "      <td>Pave</td>\n",
              "      <td>NaN</td>\n",
              "      <td>IR1</td>\n",
              "      <td>Lvl</td>\n",
              "      <td>AllPub</td>\n",
              "      <td>...</td>\n",
              "      <td>0</td>\n",
              "      <td>NaN</td>\n",
              "      <td>NaN</td>\n",
              "      <td>NaN</td>\n",
              "      <td>0</td>\n",
              "      <td>2</td>\n",
              "      <td>2006</td>\n",
              "      <td>WD</td>\n",
              "      <td>Abnorml</td>\n",
              "      <td>140000</td>\n",
              "    </tr>\n",
              "    <tr>\n",
              "      <th>4</th>\n",
              "      <td>5</td>\n",
              "      <td>60</td>\n",
              "      <td>RL</td>\n",
              "      <td>84.0</td>\n",
              "      <td>14260</td>\n",
              "      <td>Pave</td>\n",
              "      <td>NaN</td>\n",
              "      <td>IR1</td>\n",
              "      <td>Lvl</td>\n",
              "      <td>AllPub</td>\n",
              "      <td>...</td>\n",
              "      <td>0</td>\n",
              "      <td>NaN</td>\n",
              "      <td>NaN</td>\n",
              "      <td>NaN</td>\n",
              "      <td>0</td>\n",
              "      <td>12</td>\n",
              "      <td>2008</td>\n",
              "      <td>WD</td>\n",
              "      <td>Normal</td>\n",
              "      <td>250000</td>\n",
              "    </tr>\n",
              "  </tbody>\n",
              "</table>\n",
              "<p>5 rows × 81 columns</p>\n",
              "</div>"
            ],
            "text/plain": [
              "   Id  MSSubClass MSZoning  LotFrontage  LotArea Street Alley LotShape  \\\n",
              "0   1          60       RL         65.0     8450   Pave   NaN      Reg   \n",
              "1   2          20       RL         80.0     9600   Pave   NaN      Reg   \n",
              "2   3          60       RL         68.0    11250   Pave   NaN      IR1   \n",
              "3   4          70       RL         60.0     9550   Pave   NaN      IR1   \n",
              "4   5          60       RL         84.0    14260   Pave   NaN      IR1   \n",
              "\n",
              "  LandContour Utilities  ... PoolArea PoolQC Fence MiscFeature MiscVal MoSold  \\\n",
              "0         Lvl    AllPub  ...        0    NaN   NaN         NaN       0      2   \n",
              "1         Lvl    AllPub  ...        0    NaN   NaN         NaN       0      5   \n",
              "2         Lvl    AllPub  ...        0    NaN   NaN         NaN       0      9   \n",
              "3         Lvl    AllPub  ...        0    NaN   NaN         NaN       0      2   \n",
              "4         Lvl    AllPub  ...        0    NaN   NaN         NaN       0     12   \n",
              "\n",
              "  YrSold  SaleType  SaleCondition  SalePrice  \n",
              "0   2008        WD         Normal     208500  \n",
              "1   2007        WD         Normal     181500  \n",
              "2   2008        WD         Normal     223500  \n",
              "3   2006        WD        Abnorml     140000  \n",
              "4   2008        WD         Normal     250000  \n",
              "\n",
              "[5 rows x 81 columns]"
            ]
          },
          "execution_count": 3137,
          "metadata": {},
          "output_type": "execute_result"
        }
      ],
      "source": [
        "train.head()"
      ]
    },
    {
      "cell_type": "markdown",
      "source": [
        "Data pertama diidentifikasi melalui method head(), yang menampilkan gambaran data melalui 5 data pertama."
      ],
      "metadata": {
        "id": "5_6_ZOOzmKXm"
      }
    },
    {
      "cell_type": "code",
      "execution_count": null,
      "metadata": {
        "id": "YZQrahIXlHGy",
        "outputId": "80f4d015-1b5e-4284-9d8a-bc66b5656df0"
      },
      "outputs": [
        {
          "name": "stdout",
          "output_type": "stream",
          "text": [
            "1460\n",
            "81\n"
          ]
        }
      ],
      "source": [
        "print(len(train.index))\n",
        "print(len(train.columns))"
      ]
    },
    {
      "cell_type": "markdown",
      "source": [
        "Identifikasi banyaknya baris data melalui atribut index dan banyaknya kolom data melalui atribut columns. Banyaknya baris (row) sejumlah 1460 data, yang kira-kira lumayan banyak. Banyaknya kolom (column) sejumlah 81, yang berarti feature dalam data training ini terbilang cukup banyak. Feature yang akan digunakan tidak semuanya, melainkan harus di-drop terlebih dahulu beberapa feature yang dirasa tidak perlu setelah analisis lebih lanjut."
      ],
      "metadata": {
        "id": "5yeC2OY1mfdU"
      }
    },
    {
      "cell_type": "code",
      "execution_count": null,
      "metadata": {
        "id": "Nj84BGPDlHGy",
        "outputId": "d4010115-8f5b-4fa8-cc04-209163b63a75"
      },
      "outputs": [
        {
          "name": "stdout",
          "output_type": "stream",
          "text": [
            "7829\n"
          ]
        }
      ],
      "source": [
        "print(sum(train.isna().sum()))"
      ]
    },
    {
      "cell_type": "markdown",
      "source": [
        "Menentukan jumlah missing value pada data dengan menggunakan method isna(). Terlihat bahwa jumlah data yang hilang (bernilai null atau NaN) masih sangat banyak."
      ],
      "metadata": {
        "id": "hu180SJjogfB"
      }
    },
    {
      "cell_type": "code",
      "execution_count": null,
      "metadata": {
        "id": "QnU682m3lHGy",
        "outputId": "17ca1ef0-1a83-4efa-a26c-de9c140707f6"
      },
      "outputs": [
        {
          "data": {
            "text/plain": [
              "count      1460.000000\n",
              "mean     180921.195890\n",
              "std       79442.502883\n",
              "min       34900.000000\n",
              "25%      129975.000000\n",
              "50%      163000.000000\n",
              "75%      214000.000000\n",
              "max      755000.000000\n",
              "Name: SalePrice, dtype: float64"
            ]
          },
          "execution_count": 3140,
          "metadata": {},
          "output_type": "execute_result"
        }
      ],
      "source": [
        "train['SalePrice'].describe()"
      ]
    },
    {
      "cell_type": "markdown",
      "source": [
        "Deskripsi numerik terhadap feature yang menjadi variabel dependen (y) pada data train. Dalam kasus ini, feature 'SalePrice' menjadi variabel dependen yang akan dimodelkan kebergantungannya terhadap feature lainnya."
      ],
      "metadata": {
        "id": "U3Q0UwqDozyH"
      }
    },
    {
      "cell_type": "markdown",
      "source": [
        "###Exploratory Data Analysis (EDA)"
      ],
      "metadata": {
        "id": "fv9U8bXZpdAv"
      }
    },
    {
      "cell_type": "markdown",
      "source": [
        "EDA bertujuan untuk menganalisis data yang telah dimiliki agar kita memperoleh insight dari data tersebut untuk keputusan lebih lanjut."
      ],
      "metadata": {
        "id": "kwvrOeslpyXG"
      }
    },
    {
      "cell_type": "markdown",
      "source": [
        "####Pengambilan Feature yang Berkorelasi Kuat"
      ],
      "metadata": {
        "id": "A02UOUaasf0F"
      }
    },
    {
      "cell_type": "code",
      "execution_count": null,
      "metadata": {
        "id": "yBQMtRSKlHGz",
        "outputId": "f01f60c2-bfe6-4c59-e543-d92c41820972"
      },
      "outputs": [
        {
          "name": "stdout",
          "output_type": "stream",
          "text": [
            "Most correlated feature with SalePrice\n",
            "SalePrice        1.000000\n",
            "OverallQual      0.790982\n",
            "GrLivArea        0.708624\n",
            "GarageCars       0.640409\n",
            "GarageArea       0.623431\n",
            "TotalBsmtSF      0.613581\n",
            "1stFlrSF         0.605852\n",
            "FullBath         0.560664\n",
            "TotRmsAbvGrd     0.533723\n",
            "YearBuilt        0.522897\n",
            "YearRemodAdd     0.507101\n",
            "GarageYrBlt      0.486362\n",
            "MasVnrArea       0.477493\n",
            "Fireplaces       0.466929\n",
            "BsmtFinSF1       0.386420\n",
            "LotFrontage      0.351799\n",
            "WoodDeckSF       0.324413\n",
            "2ndFlrSF         0.319334\n",
            "OpenPorchSF      0.315856\n",
            "HalfBath         0.284108\n",
            "LotArea          0.263843\n",
            "BsmtFullBath     0.227122\n",
            "BsmtUnfSF        0.214479\n",
            "BedroomAbvGr     0.168213\n",
            "ScreenPorch      0.111447\n",
            "PoolArea         0.092404\n",
            "MoSold           0.046432\n",
            "3SsnPorch        0.044584\n",
            "BsmtFinSF2      -0.011378\n",
            "BsmtHalfBath    -0.016844\n",
            "MiscVal         -0.021190\n",
            "Id              -0.021917\n",
            "LowQualFinSF    -0.025606\n",
            "YrSold          -0.028923\n",
            "OverallCond     -0.077856\n",
            "MSSubClass      -0.084284\n",
            "EnclosedPorch   -0.128578\n",
            "KitchenAbvGr    -0.135907\n",
            "Name: SalePrice, dtype: float64 \n",
            "\n"
          ]
        }
      ],
      "source": [
        "numeric_cols = train.select_dtypes(include=[np.number])\n",
        "corr = numeric_cols.corr()\n",
        "print('Most correlated feature with SalePrice')\n",
        "print(corr['SalePrice'].sort_values(ascending = False), '\\n')"
      ]
    },
    {
      "cell_type": "markdown",
      "source": [
        "Mengecek korelasi dari setiap feature dengan variabel dependen 'SalePrice'. Koefisien korelasi bermakna nilai pengaruh suatu variabel independen x (feature) terhadap variabel dependen y. Range korelasi berkisar dari -1 sampai 1. Nilai koefisien korelasi positif bermakna ada korelasi positif antara variabel independen dengan variabel dependen. Semakin mendekati 1, maka semakin kuat korelasi positifnya. Sebaliknya, koefisien korelasi negatif bermakna ada korelasi negatif antara variabel independen dengan variabel dependen. Semakin mendekati -1, maka semakin kuat korelasi negatifnya."
      ],
      "metadata": {
        "id": "YakRbyjxqSNe"
      }
    },
    {
      "cell_type": "code",
      "execution_count": null,
      "metadata": {
        "id": "Ym12yssOlHGz",
        "outputId": "83708956-1a29-45f0-e4eb-dc1e4b3965c2"
      },
      "outputs": [
        {
          "data": {
            "text/plain": [
              "Id              -0.021917\n",
              "MSSubClass      -0.084284\n",
              "LotFrontage      0.351799\n",
              "LotArea          0.263843\n",
              "OverallCond     -0.077856\n",
              "BsmtFinSF1       0.386420\n",
              "BsmtFinSF2      -0.011378\n",
              "BsmtUnfSF        0.214479\n",
              "2ndFlrSF         0.319334\n",
              "LowQualFinSF    -0.025606\n",
              "BsmtFullBath     0.227122\n",
              "BsmtHalfBath    -0.016844\n",
              "HalfBath         0.284108\n",
              "BedroomAbvGr     0.168213\n",
              "KitchenAbvGr    -0.135907\n",
              "WoodDeckSF       0.324413\n",
              "OpenPorchSF      0.315856\n",
              "EnclosedPorch   -0.128578\n",
              "3SsnPorch        0.044584\n",
              "ScreenPorch      0.111447\n",
              "PoolArea         0.092404\n",
              "MiscVal         -0.021190\n",
              "MoSold           0.046432\n",
              "YrSold          -0.028923\n",
              "Name: SalePrice, dtype: float64"
            ]
          },
          "execution_count": 3142,
          "metadata": {},
          "output_type": "execute_result"
        }
      ],
      "source": [
        "corr_sale = corr['SalePrice']\n",
        "corr_sale = corr_sale[corr_sale < 0.4]\n",
        "corr_sale = corr_sale[corr_sale > -0.4]\n",
        "corr_sale"
      ]
    },
    {
      "cell_type": "code",
      "execution_count": null,
      "metadata": {
        "id": "0NdYtUcolHG0"
      },
      "outputs": [],
      "source": [
        "train = train.drop(corr_sale.index, axis=1)"
      ]
    },
    {
      "cell_type": "markdown",
      "source": [
        "Untuk kasus ini, kita akan membuang feature-feature yang korelasinya lemah terhadap 'SalePrice'. Korelasi dibatasi hanya sampai 0,4 dan -0,4. Artinya, feature yang memiliki korelasi dari -0,4 sampai 0,4 akan diambil untuk di-drop dari data."
      ],
      "metadata": {
        "id": "Zcx_kZB3rylt"
      }
    },
    {
      "cell_type": "code",
      "execution_count": null,
      "metadata": {
        "id": "KjRSdvoHlHG0",
        "outputId": "f0112469-95f7-4ab6-9bfd-f0b528599f90"
      },
      "outputs": [
        {
          "data": {
            "text/html": [
              "<div>\n",
              "<style scoped>\n",
              "    .dataframe tbody tr th:only-of-type {\n",
              "        vertical-align: middle;\n",
              "    }\n",
              "\n",
              "    .dataframe tbody tr th {\n",
              "        vertical-align: top;\n",
              "    }\n",
              "\n",
              "    .dataframe thead th {\n",
              "        text-align: right;\n",
              "    }\n",
              "</style>\n",
              "<table border=\"1\" class=\"dataframe\">\n",
              "  <thead>\n",
              "    <tr style=\"text-align: right;\">\n",
              "      <th></th>\n",
              "      <th>MSZoning</th>\n",
              "      <th>Street</th>\n",
              "      <th>Alley</th>\n",
              "      <th>LotShape</th>\n",
              "      <th>LandContour</th>\n",
              "      <th>Utilities</th>\n",
              "      <th>LotConfig</th>\n",
              "      <th>LandSlope</th>\n",
              "      <th>Neighborhood</th>\n",
              "      <th>Condition1</th>\n",
              "      <th>...</th>\n",
              "      <th>GarageArea</th>\n",
              "      <th>GarageQual</th>\n",
              "      <th>GarageCond</th>\n",
              "      <th>PavedDrive</th>\n",
              "      <th>PoolQC</th>\n",
              "      <th>Fence</th>\n",
              "      <th>MiscFeature</th>\n",
              "      <th>SaleType</th>\n",
              "      <th>SaleCondition</th>\n",
              "      <th>SalePrice</th>\n",
              "    </tr>\n",
              "  </thead>\n",
              "  <tbody>\n",
              "    <tr>\n",
              "      <th>0</th>\n",
              "      <td>RL</td>\n",
              "      <td>Pave</td>\n",
              "      <td>NaN</td>\n",
              "      <td>Reg</td>\n",
              "      <td>Lvl</td>\n",
              "      <td>AllPub</td>\n",
              "      <td>Inside</td>\n",
              "      <td>Gtl</td>\n",
              "      <td>CollgCr</td>\n",
              "      <td>Norm</td>\n",
              "      <td>...</td>\n",
              "      <td>548</td>\n",
              "      <td>TA</td>\n",
              "      <td>TA</td>\n",
              "      <td>Y</td>\n",
              "      <td>NaN</td>\n",
              "      <td>NaN</td>\n",
              "      <td>NaN</td>\n",
              "      <td>WD</td>\n",
              "      <td>Normal</td>\n",
              "      <td>208500</td>\n",
              "    </tr>\n",
              "    <tr>\n",
              "      <th>1</th>\n",
              "      <td>RL</td>\n",
              "      <td>Pave</td>\n",
              "      <td>NaN</td>\n",
              "      <td>Reg</td>\n",
              "      <td>Lvl</td>\n",
              "      <td>AllPub</td>\n",
              "      <td>FR2</td>\n",
              "      <td>Gtl</td>\n",
              "      <td>Veenker</td>\n",
              "      <td>Feedr</td>\n",
              "      <td>...</td>\n",
              "      <td>460</td>\n",
              "      <td>TA</td>\n",
              "      <td>TA</td>\n",
              "      <td>Y</td>\n",
              "      <td>NaN</td>\n",
              "      <td>NaN</td>\n",
              "      <td>NaN</td>\n",
              "      <td>WD</td>\n",
              "      <td>Normal</td>\n",
              "      <td>181500</td>\n",
              "    </tr>\n",
              "    <tr>\n",
              "      <th>2</th>\n",
              "      <td>RL</td>\n",
              "      <td>Pave</td>\n",
              "      <td>NaN</td>\n",
              "      <td>IR1</td>\n",
              "      <td>Lvl</td>\n",
              "      <td>AllPub</td>\n",
              "      <td>Inside</td>\n",
              "      <td>Gtl</td>\n",
              "      <td>CollgCr</td>\n",
              "      <td>Norm</td>\n",
              "      <td>...</td>\n",
              "      <td>608</td>\n",
              "      <td>TA</td>\n",
              "      <td>TA</td>\n",
              "      <td>Y</td>\n",
              "      <td>NaN</td>\n",
              "      <td>NaN</td>\n",
              "      <td>NaN</td>\n",
              "      <td>WD</td>\n",
              "      <td>Normal</td>\n",
              "      <td>223500</td>\n",
              "    </tr>\n",
              "    <tr>\n",
              "      <th>3</th>\n",
              "      <td>RL</td>\n",
              "      <td>Pave</td>\n",
              "      <td>NaN</td>\n",
              "      <td>IR1</td>\n",
              "      <td>Lvl</td>\n",
              "      <td>AllPub</td>\n",
              "      <td>Corner</td>\n",
              "      <td>Gtl</td>\n",
              "      <td>Crawfor</td>\n",
              "      <td>Norm</td>\n",
              "      <td>...</td>\n",
              "      <td>642</td>\n",
              "      <td>TA</td>\n",
              "      <td>TA</td>\n",
              "      <td>Y</td>\n",
              "      <td>NaN</td>\n",
              "      <td>NaN</td>\n",
              "      <td>NaN</td>\n",
              "      <td>WD</td>\n",
              "      <td>Abnorml</td>\n",
              "      <td>140000</td>\n",
              "    </tr>\n",
              "    <tr>\n",
              "      <th>4</th>\n",
              "      <td>RL</td>\n",
              "      <td>Pave</td>\n",
              "      <td>NaN</td>\n",
              "      <td>IR1</td>\n",
              "      <td>Lvl</td>\n",
              "      <td>AllPub</td>\n",
              "      <td>FR2</td>\n",
              "      <td>Gtl</td>\n",
              "      <td>NoRidge</td>\n",
              "      <td>Norm</td>\n",
              "      <td>...</td>\n",
              "      <td>836</td>\n",
              "      <td>TA</td>\n",
              "      <td>TA</td>\n",
              "      <td>Y</td>\n",
              "      <td>NaN</td>\n",
              "      <td>NaN</td>\n",
              "      <td>NaN</td>\n",
              "      <td>WD</td>\n",
              "      <td>Normal</td>\n",
              "      <td>250000</td>\n",
              "    </tr>\n",
              "  </tbody>\n",
              "</table>\n",
              "<p>5 rows × 57 columns</p>\n",
              "</div>"
            ],
            "text/plain": [
              "  MSZoning Street Alley LotShape LandContour Utilities LotConfig LandSlope  \\\n",
              "0       RL   Pave   NaN      Reg         Lvl    AllPub    Inside       Gtl   \n",
              "1       RL   Pave   NaN      Reg         Lvl    AllPub       FR2       Gtl   \n",
              "2       RL   Pave   NaN      IR1         Lvl    AllPub    Inside       Gtl   \n",
              "3       RL   Pave   NaN      IR1         Lvl    AllPub    Corner       Gtl   \n",
              "4       RL   Pave   NaN      IR1         Lvl    AllPub       FR2       Gtl   \n",
              "\n",
              "  Neighborhood Condition1  ... GarageArea GarageQual GarageCond  PavedDrive  \\\n",
              "0      CollgCr       Norm  ...        548         TA         TA           Y   \n",
              "1      Veenker      Feedr  ...        460         TA         TA           Y   \n",
              "2      CollgCr       Norm  ...        608         TA         TA           Y   \n",
              "3      Crawfor       Norm  ...        642         TA         TA           Y   \n",
              "4      NoRidge       Norm  ...        836         TA         TA           Y   \n",
              "\n",
              "   PoolQC  Fence MiscFeature SaleType SaleCondition SalePrice  \n",
              "0     NaN    NaN         NaN       WD        Normal    208500  \n",
              "1     NaN    NaN         NaN       WD        Normal    181500  \n",
              "2     NaN    NaN         NaN       WD        Normal    223500  \n",
              "3     NaN    NaN         NaN       WD       Abnorml    140000  \n",
              "4     NaN    NaN         NaN       WD        Normal    250000  \n",
              "\n",
              "[5 rows x 57 columns]"
            ]
          },
          "execution_count": 3144,
          "metadata": {},
          "output_type": "execute_result"
        }
      ],
      "source": [
        "train.head()"
      ]
    },
    {
      "cell_type": "code",
      "execution_count": null,
      "metadata": {
        "id": "CNd8kHwglHG0",
        "outputId": "7d2502c7-7ddb-4ea1-9445-4909b7bc49ff"
      },
      "outputs": [
        {
          "name": "stdout",
          "output_type": "stream",
          "text": [
            "Most correlated feature with SalePrice\n",
            "SalePrice       1.000000\n",
            "OverallQual     0.790982\n",
            "GrLivArea       0.708624\n",
            "GarageCars      0.640409\n",
            "GarageArea      0.623431\n",
            "TotalBsmtSF     0.613581\n",
            "1stFlrSF        0.605852\n",
            "FullBath        0.560664\n",
            "TotRmsAbvGrd    0.533723\n",
            "YearBuilt       0.522897\n",
            "YearRemodAdd    0.507101\n",
            "GarageYrBlt     0.486362\n",
            "MasVnrArea      0.477493\n",
            "Fireplaces      0.466929\n",
            "Name: SalePrice, dtype: float64 \n",
            "\n"
          ]
        }
      ],
      "source": [
        "numeric_cols = train.select_dtypes(include=[np.number])\n",
        "corr = numeric_cols.corr()\n",
        "print('Most correlated feature with SalePrice')\n",
        "print(corr['SalePrice'].sort_values(ascending = False), '\\n')"
      ]
    },
    {
      "cell_type": "markdown",
      "source": [
        "Begini tampilan data setelah beberapa feature berkorelasi lemah dibuang. Tersisa hanya 57 kolom saja dengan korelasi yang sudah di atas 0,4."
      ],
      "metadata": {
        "id": "yI9laZUDr36i"
      }
    },
    {
      "cell_type": "code",
      "execution_count": null,
      "metadata": {
        "id": "QIqfT_T1lHG1",
        "outputId": "a366c4d2-fef4-4bf4-d9c5-d17c22611072"
      },
      "outputs": [
        {
          "data": {
            "text/plain": [
              "Index(['MSZoning', 'Street', 'Alley', 'LotShape', 'LandContour', 'Utilities',\n",
              "       'LotConfig', 'LandSlope', 'Neighborhood', 'Condition1', 'Condition2',\n",
              "       'BldgType', 'HouseStyle', 'OverallQual', 'YearBuilt', 'YearRemodAdd',\n",
              "       'RoofStyle', 'RoofMatl', 'Exterior1st', 'Exterior2nd', 'MasVnrType',\n",
              "       'MasVnrArea', 'ExterQual', 'ExterCond', 'Foundation', 'BsmtQual',\n",
              "       'BsmtCond', 'BsmtExposure', 'BsmtFinType1', 'BsmtFinType2',\n",
              "       'TotalBsmtSF', 'Heating', 'HeatingQC', 'CentralAir', 'Electrical',\n",
              "       '1stFlrSF', 'GrLivArea', 'FullBath', 'KitchenQual', 'TotRmsAbvGrd',\n",
              "       'Functional', 'Fireplaces', 'FireplaceQu', 'GarageType', 'GarageYrBlt',\n",
              "       'GarageFinish', 'GarageCars', 'GarageArea', 'GarageQual', 'GarageCond',\n",
              "       'PavedDrive', 'PoolQC', 'Fence', 'MiscFeature', 'SaleType',\n",
              "       'SaleCondition', 'SalePrice'],\n",
              "      dtype='object')"
            ]
          },
          "execution_count": 3146,
          "metadata": {},
          "output_type": "execute_result"
        }
      ],
      "source": [
        "train.columns"
      ]
    },
    {
      "cell_type": "markdown",
      "source": [
        "Kolom feature yang masih tersisa."
      ],
      "metadata": {
        "id": "pxG0g2VysLis"
      }
    },
    {
      "cell_type": "markdown",
      "source": [
        "####Pemeriksaan Distribusi Data dan Penghapusan Outlier"
      ],
      "metadata": {
        "id": "R4GgnvbDsw_t"
      }
    },
    {
      "cell_type": "markdown",
      "source": [
        "Dari koefisien korelasi di atas, terlihat bahwa feature 'OverallQual' memiliki korelasi terkuat di antara semua feature. Maka, untuk memperoleh hasil yang baik, data dalam feature ini harus diperiksa kondisinya terlebih dahulu. Dalam hal ini, data 'OverallQual' diperiksa distribusi datanya agar tidak menyimpang dari semestinya."
      ],
      "metadata": {
        "id": "cwQaO_VHs7_d"
      }
    },
    {
      "cell_type": "markdown",
      "source": [
        "Feature 'OverallQual' merupakan data numerik ordinal, sehingga pemeriksaan distribusi data dapat dilakukan dengan membentuk diagram batang frekuensi dari data 'OverallQual'."
      ],
      "metadata": {
        "id": "lvdbjn5Otpfx"
      }
    },
    {
      "cell_type": "code",
      "execution_count": null,
      "metadata": {
        "id": "BpZKssmrlHG1",
        "outputId": "2f966906-e192-48ff-c153-8ad0fc909a68"
      },
      "outputs": [
        {
          "data": {
            "text/plain": [
              "Text(0.5, 1.0, 'Overall Quality Distribution')"
            ]
          },
          "execution_count": 3148,
          "metadata": {},
          "output_type": "execute_result"
        },
        {
          "data": {
            "image/png": "[encoded data removed]",
            "text/plain": [
              "<Figure size 500x500 with 1 Axes>"
            ]
          },
          "metadata": {},
          "output_type": "display_data"
        }
      ],
      "source": [
        "sns.displot(train['OverallQual'], label = 'Skewness: %.2f'%(train['OverallQual'].skew()))\n",
        "plt.legend(loc = 'best')\n",
        "plt.title(\"Overall Quality Distribution\")"
      ]
    },
    {
      "cell_type": "markdown",
      "source": [
        "Terlihat bahwa kecenderungan data masih membentuk kurva distribusi normal dengan kemiringan (skewness) sebesar 22%. Data ini masih aman dan dapat masuk ke proses pemodelan tanpa ada perubahan lagi."
      ],
      "metadata": {
        "id": "H1PKpP69uGz2"
      }
    },
    {
      "cell_type": "markdown",
      "source": [
        "Selain itu, feature 'GrLivArea' juga merupakan salah satu feature yang korelasinya kuat, sehingga distribusi datanya perlu diperiksa lebih lanjut. Oleh karena datanya bersifat numerik nominal, maka sebarannya akan dipetakan melalui scatter plot."
      ],
      "metadata": {
        "id": "uiO2CgVUutY0"
      }
    },
    {
      "cell_type": "code",
      "execution_count": null,
      "metadata": {
        "id": "RYc3HS1clHG1",
        "outputId": "438cee8c-b3fa-40e4-bbf1-242ec99cb390"
      },
      "outputs": [
        {
          "data": {
            "text/plain": [
              "Text(0.5, 0, 'GrLivingArea Living Area Square Feet')"
            ]
          },
          "execution_count": 3149,
          "metadata": {},
          "output_type": "execute_result"
        },
        {
          "data": {
            "image/png": "[encoded data removed]",
            "text/plain": [
              "<Figure size 640x480 with 1 Axes>"
            ]
          },
          "metadata": {},
          "output_type": "display_data"
        }
      ],
      "source": [
        "plt.scatter(x=train['GrLivArea'], y=train['SalePrice'])\n",
        "plt.ylabel('SalePrice')\n",
        "plt.xlabel('GrLivingArea Living Area Square Feet')"
      ]
    },
    {
      "cell_type": "markdown",
      "source": [
        "Dari hasil plotting, terlihat korelasinya moderat positif, tetapi tampak ada beberapa outlier yang cukup jauh dari posisi pemusatan data. Kita perlu mendeteksi outlier tersebut untuk dibuang agar tidak mengganggu data yang lain."
      ],
      "metadata": {
        "id": "Ww35heTevOZt"
      }
    },
    {
      "cell_type": "code",
      "execution_count": null,
      "metadata": {
        "id": "qSCVn8-NlHG2",
        "outputId": "2e895b6f-c1b0-4833-9d21-fe8e48f9bb85"
      },
      "outputs": [
        {
          "data": {
            "text/plain": [
              "(1460, 57)"
            ]
          },
          "execution_count": 3150,
          "metadata": {},
          "output_type": "execute_result"
        }
      ],
      "source": [
        "train.shape"
      ]
    },
    {
      "cell_type": "markdown",
      "source": [
        "Ini adalah bentuk data sebelum pembuangan outlier, terlihat ada 1460 data. Nilai ini cukup banyak sehingga pembuangan beberapa outlier tidak menjadi masalah."
      ],
      "metadata": {
        "id": "GCz2ru78vniJ"
      }
    },
    {
      "cell_type": "markdown",
      "source": [
        "Deteksi outlier pada kasus ini akan menggunakan metode Jangkauan Interkuartil atau Interquartile Range (IQR) Method. Diketahui penentuan outlier melalui metode IQR mengikuti formula sebagai berikut:"
      ],
      "metadata": {
        "id": "TJGEDxavv1ap"
      }
    },
    {
      "cell_type": "markdown",
      "source": [
        "![image.png](data:image/png;base64,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)"
      ],
      "metadata": {
        "id": "2gBJ2D55x723"
      }
    },
    {
      "cell_type": "code",
      "execution_count": null,
      "metadata": {
        "id": "hbXOb_9clHG2",
        "outputId": "d8d30e77-36a2-4382-bf6f-9ff4dfb81187"
      },
      "outputs": [
        {
          "name": "stdout",
          "output_type": "stream",
          "text": [
            "[2945 3222 3608 3112 2794 3493 2978 3228 4676 2775 3194 3395 4316 3279\n",
            " 3140 2822 2872 2898 3082 2868 2828 3627 3086 2872 4476 3447 5642 2810\n",
            " 2792 3238 2784]\n"
          ]
        },
        {
          "data": {
            "text/plain": [
              "(1429, 57)"
            ]
          },
          "execution_count": 3151,
          "metadata": {},
          "output_type": "execute_result"
        }
      ],
      "source": [
        "first_quartile = train['GrLivArea'].quantile(0.25)\n",
        "third_quartile = train['GrLivArea'].quantile(0.75)\n",
        "\n",
        "iqr = third_quartile - first_quartile\n",
        "Tmin = first_quartile - 1.5 * iqr\n",
        "Tmax = third_quartile + 1.5 * iqr\n",
        "\n",
        "filtered_values = train[(train['GrLivArea'] < Tmin) | (train['GrLivArea'] > Tmax)]['GrLivArea'].values\n",
        "print(filtered_values)\n",
        "\n",
        "train = train[~train['GrLivArea'].isin(filtered_values)]\n",
        "train.shape"
      ]
    },
    {
      "cell_type": "markdown",
      "source": [
        "Setelah diperoleh outlier, data outlier tersebut di-drop, sehingga menyisakan 1429 data saja."
      ],
      "metadata": {
        "id": "64_awVdLyIZK"
      }
    },
    {
      "cell_type": "markdown",
      "source": [
        "Pencarian outlier dilanjutkan pada feature berkorelasi kuat selanjutnya, yaitu 'TotalBsmtSF', yang juga merupakan data numerik nominal. Analisis sebaran dilakukan menggunakan scatter plot."
      ],
      "metadata": {
        "id": "9C4Rq0NvyVQw"
      }
    },
    {
      "cell_type": "code",
      "execution_count": null,
      "metadata": {
        "id": "d5NTh6vKlHG2",
        "outputId": "e7fdf329-6b11-437f-eac8-f2ac0c03627c"
      },
      "outputs": [
        {
          "data": {
            "text/plain": [
              "Text(0.5, 0, 'Total Basmement Area Square Feet')"
            ]
          },
          "execution_count": 3152,
          "metadata": {},
          "output_type": "execute_result"
        },
        {
          "data": {
            "image/png": "[encoded data removed]",
            "text/plain": [
              "<Figure size 640x480 with 1 Axes>"
            ]
          },
          "metadata": {},
          "output_type": "display_data"
        }
      ],
      "source": [
        "plt.scatter(x=train['TotalBsmtSF'], y=train['SalePrice'])\n",
        "plt.ylabel('SalePrice')\n",
        "plt.xlabel('Total Basmement Area Square Feet')"
      ]
    },
    {
      "cell_type": "markdown",
      "source": [
        "Sama seperti feature 'GrLivArea', feature ini juga berkorelasi moderat positif, dengan adanya sebaran aneh di depan, yaitu adanya beberapa data yang nilainya nol, yang tentu jauh dari pusat sebaran data."
      ],
      "metadata": {
        "id": "O3XEAXEJyrVm"
      }
    },
    {
      "cell_type": "markdown",
      "source": [
        "Pencarian outlier dilakukan dengan menggunakan metode IQR juga, tetapi dengan penyesuaian tambahan. Jika diproses lebih lanjut, diperoleh bahwa data bernilai nol juga terhitung sebagai outlier. Akan tetapi, jika dianalisis lebih dalam, feature ini menunjukkan seberapa besar luas basement yang dimiliki oleh sebuah rumah. Dalam hal ini, bukan hal aneh jika ada sebuah rumah yang tidak memiliki basement, sehingga nilai luasnya nol. Maka, data-data yang bernilai nol tidak bisa kita kategorikan sebagai outlier, sehingga harus dihilangkan dari data pencarian outlier."
      ],
      "metadata": {
        "id": "2YvPptO6zIbL"
      }
    },
    {
      "cell_type": "code",
      "execution_count": null,
      "metadata": {
        "id": "kVQbYK7ZlHG2",
        "outputId": "0672d963-ef36-4b0c-c18d-bc1488848ae8"
      },
      "outputs": [
        {
          "name": "stdout",
          "output_type": "stream",
          "text": [
            "[2223, 2216, 2392, 2121, 2000, 2136, 3206, 3094, 2153, 2006, 2035, 2042, 2109, 2077, 2046, 2078, 2217, 2330, 2524, 2158, 2136, 2076, 2110, 2002, 2633]\n"
          ]
        },
        {
          "data": {
            "text/plain": [
              "(1404, 57)"
            ]
          },
          "execution_count": 3153,
          "metadata": {},
          "output_type": "execute_result"
        }
      ],
      "source": [
        "first_quartile = train['TotalBsmtSF'].quantile(0.25)\n",
        "third_quartile = train['TotalBsmtSF'].quantile(0.75)\n",
        "\n",
        "iqr = third_quartile - first_quartile\n",
        "Tmin = first_quartile - 1.5 * iqr\n",
        "Tmax = third_quartile + 1.5 * iqr\n",
        "\n",
        "filtered_values = train[(train['TotalBsmtSF'] < Tmin) | (train['TotalBsmtSF'] > Tmax)]['TotalBsmtSF'].values\n",
        "filtered_values = [i for i in filtered_values if i != 0]\n",
        "print(filtered_values)\n",
        "\n",
        "train = train[~train['TotalBsmtSF'].isin(filtered_values)]\n",
        "train.shape"
      ]
    },
    {
      "cell_type": "markdown",
      "source": [
        "Setelah data outlier di-drop, tersisa hanya 1404 data saja."
      ],
      "metadata": {
        "id": "q3mjSGt8zwlh"
      }
    },
    {
      "cell_type": "markdown",
      "source": [
        "###Data Preprocessing"
      ],
      "metadata": {
        "id": "w1T4sDqc0GJU"
      }
    },
    {
      "cell_type": "markdown",
      "source": [
        "Selanjutnya, kita akan melakukan preprocessing pada data yang sudah dianalisis pada tahap EDA."
      ],
      "metadata": {
        "id": "4fMeCe-R0OxW"
      }
    },
    {
      "cell_type": "markdown",
      "source": [
        "####Handling Missing Values (1)"
      ],
      "metadata": {
        "id": "d2-HUU9Z1RJF"
      }
    },
    {
      "cell_type": "code",
      "execution_count": null,
      "metadata": {
        "id": "iskSlvv5lHG2",
        "outputId": "dc0ed94f-0bd1-474b-b13c-47d2e01216a8"
      },
      "outputs": [
        {
          "name": "stdout",
          "output_type": "stream",
          "text": [
            "Alley          0.936610\n",
            "PoolQC         0.997863\n",
            "Fence          0.806268\n",
            "MiscFeature    0.962963\n",
            "dtype: float64\n"
          ]
        }
      ],
      "source": [
        "train_percentage = train.isnull().sum() / train.shape[0]\n",
        "print(train_percentage[train_percentage > 0.80])\n",
        "train = train.drop(train_percentage[train_percentage > 0.80].index, axis=1)"
      ]
    },
    {
      "cell_type": "markdown",
      "source": [
        "Dari semua kolom, ada beberapa feature yang tingkat kekosongannya cukup tinggi. Jika kita tampilkan feature yang memiliki null value lebih dari 80% jumlah datanya, terlihat ada 4 feature yang memenuhi kriteria tersebut. Oleh karena dalam bentuk kosongnya saja tidak memengaruhi hasil, maka lebih baik feature tersebut di-drop saja."
      ],
      "metadata": {
        "id": "9r49rLUd0fWX"
      }
    },
    {
      "cell_type": "code",
      "execution_count": null,
      "metadata": {
        "id": "Uaqx53WLlHG3",
        "outputId": "70d29056-2214-4c7d-b93d-01d27506a395"
      },
      "outputs": [
        {
          "data": {
            "text/html": [
              "<div>\n",
              "<style scoped>\n",
              "    .dataframe tbody tr th:only-of-type {\n",
              "        vertical-align: middle;\n",
              "    }\n",
              "\n",
              "    .dataframe tbody tr th {\n",
              "        vertical-align: top;\n",
              "    }\n",
              "\n",
              "    .dataframe thead th {\n",
              "        text-align: right;\n",
              "    }\n",
              "</style>\n",
              "<table border=\"1\" class=\"dataframe\">\n",
              "  <thead>\n",
              "    <tr style=\"text-align: right;\">\n",
              "      <th></th>\n",
              "      <th>MSZoning</th>\n",
              "      <th>Street</th>\n",
              "      <th>LotShape</th>\n",
              "      <th>LandContour</th>\n",
              "      <th>Utilities</th>\n",
              "      <th>LotConfig</th>\n",
              "      <th>LandSlope</th>\n",
              "      <th>Neighborhood</th>\n",
              "      <th>Condition1</th>\n",
              "      <th>Condition2</th>\n",
              "      <th>...</th>\n",
              "      <th>GarageYrBlt</th>\n",
              "      <th>GarageFinish</th>\n",
              "      <th>GarageCars</th>\n",
              "      <th>GarageArea</th>\n",
              "      <th>GarageQual</th>\n",
              "      <th>GarageCond</th>\n",
              "      <th>PavedDrive</th>\n",
              "      <th>SaleType</th>\n",
              "      <th>SaleCondition</th>\n",
              "      <th>SalePrice</th>\n",
              "    </tr>\n",
              "  </thead>\n",
              "  <tbody>\n",
              "    <tr>\n",
              "      <th>0</th>\n",
              "      <td>RL</td>\n",
              "      <td>Pave</td>\n",
              "      <td>Reg</td>\n",
              "      <td>Lvl</td>\n",
              "      <td>AllPub</td>\n",
              "      <td>Inside</td>\n",
              "      <td>Gtl</td>\n",
              "      <td>CollgCr</td>\n",
              "      <td>Norm</td>\n",
              "      <td>Norm</td>\n",
              "      <td>...</td>\n",
              "      <td>2003.0</td>\n",
              "      <td>RFn</td>\n",
              "      <td>2</td>\n",
              "      <td>548</td>\n",
              "      <td>TA</td>\n",
              "      <td>TA</td>\n",
              "      <td>Y</td>\n",
              "      <td>WD</td>\n",
              "      <td>Normal</td>\n",
              "      <td>208500</td>\n",
              "    </tr>\n",
              "    <tr>\n",
              "      <th>1</th>\n",
              "      <td>RL</td>\n",
              "      <td>Pave</td>\n",
              "      <td>Reg</td>\n",
              "      <td>Lvl</td>\n",
              "      <td>AllPub</td>\n",
              "      <td>FR2</td>\n",
              "      <td>Gtl</td>\n",
              "      <td>Veenker</td>\n",
              "      <td>Feedr</td>\n",
              "      <td>Norm</td>\n",
              "      <td>...</td>\n",
              "      <td>1976.0</td>\n",
              "      <td>RFn</td>\n",
              "      <td>2</td>\n",
              "      <td>460</td>\n",
              "      <td>TA</td>\n",
              "      <td>TA</td>\n",
              "      <td>Y</td>\n",
              "      <td>WD</td>\n",
              "      <td>Normal</td>\n",
              "      <td>181500</td>\n",
              "    </tr>\n",
              "    <tr>\n",
              "      <th>2</th>\n",
              "      <td>RL</td>\n",
              "      <td>Pave</td>\n",
              "      <td>IR1</td>\n",
              "      <td>Lvl</td>\n",
              "      <td>AllPub</td>\n",
              "      <td>Inside</td>\n",
              "      <td>Gtl</td>\n",
              "      <td>CollgCr</td>\n",
              "      <td>Norm</td>\n",
              "      <td>Norm</td>\n",
              "      <td>...</td>\n",
              "      <td>2001.0</td>\n",
              "      <td>RFn</td>\n",
              "      <td>2</td>\n",
              "      <td>608</td>\n",
              "      <td>TA</td>\n",
              "      <td>TA</td>\n",
              "      <td>Y</td>\n",
              "      <td>WD</td>\n",
              "      <td>Normal</td>\n",
              "      <td>223500</td>\n",
              "    </tr>\n",
              "    <tr>\n",
              "      <th>3</th>\n",
              "      <td>RL</td>\n",
              "      <td>Pave</td>\n",
              "      <td>IR1</td>\n",
              "      <td>Lvl</td>\n",
              "      <td>AllPub</td>\n",
              "      <td>Corner</td>\n",
              "      <td>Gtl</td>\n",
              "      <td>Crawfor</td>\n",
              "      <td>Norm</td>\n",
              "      <td>Norm</td>\n",
              "      <td>...</td>\n",
              "      <td>1998.0</td>\n",
              "      <td>Unf</td>\n",
              "      <td>3</td>\n",
              "      <td>642</td>\n",
              "      <td>TA</td>\n",
              "      <td>TA</td>\n",
              "      <td>Y</td>\n",
              "      <td>WD</td>\n",
              "      <td>Abnorml</td>\n",
              "      <td>140000</td>\n",
              "    </tr>\n",
              "    <tr>\n",
              "      <th>4</th>\n",
              "      <td>RL</td>\n",
              "      <td>Pave</td>\n",
              "      <td>IR1</td>\n",
              "      <td>Lvl</td>\n",
              "      <td>AllPub</td>\n",
              "      <td>FR2</td>\n",
              "      <td>Gtl</td>\n",
              "      <td>NoRidge</td>\n",
              "      <td>Norm</td>\n",
              "      <td>Norm</td>\n",
              "      <td>...</td>\n",
              "      <td>2000.0</td>\n",
              "      <td>RFn</td>\n",
              "      <td>3</td>\n",
              "      <td>836</td>\n",
              "      <td>TA</td>\n",
              "      <td>TA</td>\n",
              "      <td>Y</td>\n",
              "      <td>WD</td>\n",
              "      <td>Normal</td>\n",
              "      <td>250000</td>\n",
              "    </tr>\n",
              "  </tbody>\n",
              "</table>\n",
              "<p>5 rows × 53 columns</p>\n",
              "</div>"
            ],
            "text/plain": [
              "  MSZoning Street LotShape LandContour Utilities LotConfig LandSlope  \\\n",
              "0       RL   Pave      Reg         Lvl    AllPub    Inside       Gtl   \n",
              "1       RL   Pave      Reg         Lvl    AllPub       FR2       Gtl   \n",
              "2       RL   Pave      IR1         Lvl    AllPub    Inside       Gtl   \n",
              "3       RL   Pave      IR1         Lvl    AllPub    Corner       Gtl   \n",
              "4       RL   Pave      IR1         Lvl    AllPub       FR2       Gtl   \n",
              "\n",
              "  Neighborhood Condition1 Condition2  ... GarageYrBlt GarageFinish  \\\n",
              "0      CollgCr       Norm       Norm  ...      2003.0          RFn   \n",
              "1      Veenker      Feedr       Norm  ...      1976.0          RFn   \n",
              "2      CollgCr       Norm       Norm  ...      2001.0          RFn   \n",
              "3      Crawfor       Norm       Norm  ...      1998.0          Unf   \n",
              "4      NoRidge       Norm       Norm  ...      2000.0          RFn   \n",
              "\n",
              "   GarageCars  GarageArea  GarageQual GarageCond PavedDrive SaleType  \\\n",
              "0           2         548          TA         TA          Y       WD   \n",
              "1           2         460          TA         TA          Y       WD   \n",
              "2           2         608          TA         TA          Y       WD   \n",
              "3           3         642          TA         TA          Y       WD   \n",
              "4           3         836          TA         TA          Y       WD   \n",
              "\n",
              "  SaleCondition SalePrice  \n",
              "0        Normal    208500  \n",
              "1        Normal    181500  \n",
              "2        Normal    223500  \n",
              "3       Abnorml    140000  \n",
              "4        Normal    250000  \n",
              "\n",
              "[5 rows x 53 columns]"
            ]
          },
          "execution_count": 3155,
          "metadata": {},
          "output_type": "execute_result"
        }
      ],
      "source": [
        "train.head()"
      ]
    },
    {
      "cell_type": "markdown",
      "source": [
        "Tersisa 53 kolom saja sampai saat ini."
      ],
      "metadata": {
        "id": "qzGnlsfL1X0a"
      }
    },
    {
      "cell_type": "markdown",
      "source": [
        "####Encoding Data Kategorik"
      ],
      "metadata": {
        "id": "prDAJ4tX1ese"
      }
    },
    {
      "cell_type": "markdown",
      "source": [
        "Data yang bersifat kategorik perlu di-encoding ke dalam wujud numerik agar dapat dibaca oleh model. Dalam hal ini, teknik encoding yang digunakan adalah LabelEncoder(), dengan alasan kemudahan dan banyaknya feature yang sifatnya ordinal, meskipun feature tersebut merupakan data kategorik."
      ],
      "metadata": {
        "id": "VyKFtGv-1p3H"
      }
    },
    {
      "cell_type": "code",
      "execution_count": null,
      "metadata": {
        "id": "US-S6Y71lHG3"
      },
      "outputs": [],
      "source": [
        "le = preprocessing.LabelEncoder()\n",
        "for name in train.columns:\n",
        "    if train[name].dtypes == 'O':\n",
        "        train[name] = train[name].astype(str)\n",
        "        le.fit(train[name])\n",
        "        train[name] = le.transform(train[name])"
      ]
    },
    {
      "cell_type": "markdown",
      "source": [
        "Setiap data dengan tipe data Object menandakan bahwa data tersebut belum bersifat numerik, alias masih dalam bentuk kategorik, sehingga perlu ditransformasi ke dalam bentuk numerik."
      ],
      "metadata": {
        "id": "eyIoS4le2IKI"
      }
    },
    {
      "cell_type": "code",
      "execution_count": null,
      "metadata": {
        "id": "FIm0SAGylHG3",
        "outputId": "716f953d-4908-4e67-f10e-86416bf06a3a"
      },
      "outputs": [
        {
          "data": {
            "text/html": [
              "<div>\n",
              "<style scoped>\n",
              "    .dataframe tbody tr th:only-of-type {\n",
              "        vertical-align: middle;\n",
              "    }\n",
              "\n",
              "    .dataframe tbody tr th {\n",
              "        vertical-align: top;\n",
              "    }\n",
              "\n",
              "    .dataframe thead th {\n",
              "        text-align: right;\n",
              "    }\n",
              "</style>\n",
              "<table border=\"1\" class=\"dataframe\">\n",
              "  <thead>\n",
              "    <tr style=\"text-align: right;\">\n",
              "      <th></th>\n",
              "      <th>MSZoning</th>\n",
              "      <th>Street</th>\n",
              "      <th>LotShape</th>\n",
              "      <th>LandContour</th>\n",
              "      <th>Utilities</th>\n",
              "      <th>LotConfig</th>\n",
              "      <th>LandSlope</th>\n",
              "      <th>Neighborhood</th>\n",
              "      <th>Condition1</th>\n",
              "      <th>Condition2</th>\n",
              "      <th>...</th>\n",
              "      <th>GarageYrBlt</th>\n",
              "      <th>GarageFinish</th>\n",
              "      <th>GarageCars</th>\n",
              "      <th>GarageArea</th>\n",
              "      <th>GarageQual</th>\n",
              "      <th>GarageCond</th>\n",
              "      <th>PavedDrive</th>\n",
              "      <th>SaleType</th>\n",
              "      <th>SaleCondition</th>\n",
              "      <th>SalePrice</th>\n",
              "    </tr>\n",
              "  </thead>\n",
              "  <tbody>\n",
              "    <tr>\n",
              "      <th>0</th>\n",
              "      <td>3</td>\n",
              "      <td>1</td>\n",
              "      <td>3</td>\n",
              "      <td>3</td>\n",
              "      <td>0</td>\n",
              "      <td>4</td>\n",
              "      <td>0</td>\n",
              "      <td>5</td>\n",
              "      <td>2</td>\n",
              "      <td>2</td>\n",
              "      <td>...</td>\n",
              "      <td>2003.0</td>\n",
              "      <td>1</td>\n",
              "      <td>2</td>\n",
              "      <td>548</td>\n",
              "      <td>4</td>\n",
              "      <td>4</td>\n",
              "      <td>2</td>\n",
              "      <td>8</td>\n",
              "      <td>4</td>\n",
              "      <td>208500</td>\n",
              "    </tr>\n",
              "    <tr>\n",
              "      <th>1</th>\n",
              "      <td>3</td>\n",
              "      <td>1</td>\n",
              "      <td>3</td>\n",
              "      <td>3</td>\n",
              "      <td>0</td>\n",
              "      <td>2</td>\n",
              "      <td>0</td>\n",
              "      <td>24</td>\n",
              "      <td>1</td>\n",
              "      <td>2</td>\n",
              "      <td>...</td>\n",
              "      <td>1976.0</td>\n",
              "      <td>1</td>\n",
              "      <td>2</td>\n",
              "      <td>460</td>\n",
              "      <td>4</td>\n",
              "      <td>4</td>\n",
              "      <td>2</td>\n",
              "      <td>8</td>\n",
              "      <td>4</td>\n",
              "      <td>181500</td>\n",
              "    </tr>\n",
              "    <tr>\n",
              "      <th>2</th>\n",
              "      <td>3</td>\n",
              "      <td>1</td>\n",
              "      <td>0</td>\n",
              "      <td>3</td>\n",
              "      <td>0</td>\n",
              "      <td>4</td>\n",
              "      <td>0</td>\n",
              "      <td>5</td>\n",
              "      <td>2</td>\n",
              "      <td>2</td>\n",
              "      <td>...</td>\n",
              "      <td>2001.0</td>\n",
              "      <td>1</td>\n",
              "      <td>2</td>\n",
              "      <td>608</td>\n",
              "      <td>4</td>\n",
              "      <td>4</td>\n",
              "      <td>2</td>\n",
              "      <td>8</td>\n",
              "      <td>4</td>\n",
              "      <td>223500</td>\n",
              "    </tr>\n",
              "    <tr>\n",
              "      <th>3</th>\n",
              "      <td>3</td>\n",
              "      <td>1</td>\n",
              "      <td>0</td>\n",
              "      <td>3</td>\n",
              "      <td>0</td>\n",
              "      <td>0</td>\n",
              "      <td>0</td>\n",
              "      <td>6</td>\n",
              "      <td>2</td>\n",
              "      <td>2</td>\n",
              "      <td>...</td>\n",
              "      <td>1998.0</td>\n",
              "      <td>2</td>\n",
              "      <td>3</td>\n",
              "      <td>642</td>\n",
              "      <td>4</td>\n",
              "      <td>4</td>\n",
              "      <td>2</td>\n",
              "      <td>8</td>\n",
              "      <td>0</td>\n",
              "      <td>140000</td>\n",
              "    </tr>\n",
              "    <tr>\n",
              "      <th>4</th>\n",
              "      <td>3</td>\n",
              "      <td>1</td>\n",
              "      <td>0</td>\n",
              "      <td>3</td>\n",
              "      <td>0</td>\n",
              "      <td>2</td>\n",
              "      <td>0</td>\n",
              "      <td>15</td>\n",
              "      <td>2</td>\n",
              "      <td>2</td>\n",
              "      <td>...</td>\n",
              "      <td>2000.0</td>\n",
              "      <td>1</td>\n",
              "      <td>3</td>\n",
              "      <td>836</td>\n",
              "      <td>4</td>\n",
              "      <td>4</td>\n",
              "      <td>2</td>\n",
              "      <td>8</td>\n",
              "      <td>4</td>\n",
              "      <td>250000</td>\n",
              "    </tr>\n",
              "  </tbody>\n",
              "</table>\n",
              "<p>5 rows × 53 columns</p>\n",
              "</div>"
            ],
            "text/plain": [
              "   MSZoning  Street  LotShape  LandContour  Utilities  LotConfig  LandSlope  \\\n",
              "0         3       1         3            3          0          4          0   \n",
              "1         3       1         3            3          0          2          0   \n",
              "2         3       1         0            3          0          4          0   \n",
              "3         3       1         0            3          0          0          0   \n",
              "4         3       1         0            3          0          2          0   \n",
              "\n",
              "   Neighborhood  Condition1  Condition2  ...  GarageYrBlt  GarageFinish  \\\n",
              "0             5           2           2  ...       2003.0             1   \n",
              "1            24           1           2  ...       1976.0             1   \n",
              "2             5           2           2  ...       2001.0             1   \n",
              "3             6           2           2  ...       1998.0             2   \n",
              "4            15           2           2  ...       2000.0             1   \n",
              "\n",
              "   GarageCars  GarageArea  GarageQual  GarageCond  PavedDrive  SaleType  \\\n",
              "0           2         548           4           4           2         8   \n",
              "1           2         460           4           4           2         8   \n",
              "2           2         608           4           4           2         8   \n",
              "3           3         642           4           4           2         8   \n",
              "4           3         836           4           4           2         8   \n",
              "\n",
              "   SaleCondition  SalePrice  \n",
              "0              4     208500  \n",
              "1              4     181500  \n",
              "2              4     223500  \n",
              "3              0     140000  \n",
              "4              4     250000  \n",
              "\n",
              "[5 rows x 53 columns]"
            ]
          },
          "execution_count": 3157,
          "metadata": {},
          "output_type": "execute_result"
        }
      ],
      "source": [
        "train.head()"
      ]
    },
    {
      "cell_type": "markdown",
      "source": [
        "Tampilan setelah dilakukan encoding."
      ],
      "metadata": {
        "id": "bZReUiol2Wjl"
      }
    },
    {
      "cell_type": "markdown",
      "source": [
        "####Handling Missing Values (2)"
      ],
      "metadata": {
        "id": "v1NQ0EL52lkv"
      }
    },
    {
      "cell_type": "code",
      "execution_count": null,
      "metadata": {
        "id": "sO10lCnVlHG3"
      },
      "outputs": [],
      "source": [
        "for column in train.columns:\n",
        "    null_vals = train.isnull().values\n",
        "    a,b = np.unique(train.values[~null_vals], return_counts=1)\n",
        "    train.loc[train[column].isna(), column] = np.random.choice(a, train[column].isnull().sum(), p = b / b.sum())"
      ]
    },
    {
      "cell_type": "markdown",
      "source": [
        "Untuk setiap data di semua kolom, apabila masih bernilai null, baik itu kategorik ataupun numerik, akan diisi oleh probabilitas kemunculan nilai terbesar yang memungkinkan pada kolom data tersebut."
      ],
      "metadata": {
        "id": "dmcoMD8Y2u_r"
      }
    },
    {
      "cell_type": "markdown",
      "source": [
        "####Standardisasi Data Numerik"
      ],
      "metadata": {
        "id": "z73TW2dS3OpT"
      }
    },
    {
      "cell_type": "code",
      "execution_count": null,
      "metadata": {
        "id": "e9S_NPq1lHG3"
      },
      "outputs": [],
      "source": [
        "train['YearBuilt'] = (train['YearBuilt'] - train['YearBuilt'].mean()) / train['YearBuilt'].std()\n",
        "train['YearRemodAdd'] = (train['YearRemodAdd'] - train['YearRemodAdd'].mean()) / train['YearRemodAdd'].std()\n",
        "train['MasVnrArea'] = (train['MasVnrArea'] - train['MasVnrArea'].mean()) / train['MasVnrArea'].std()\n",
        "train['TotalBsmtSF'] = (train['TotalBsmtSF'] - train['TotalBsmtSF'].mean()) / train['TotalBsmtSF'].std()\n",
        "train['1stFlrSF'] = (train['1stFlrSF'] - train['1stFlrSF'].mean()) / train['1stFlrSF'].std()\n",
        "train['GrLivArea'] = (train['GrLivArea'] - train['GrLivArea'].mean()) / train['GrLivArea'].std()\n",
        "train['GarageYrBlt'] = (train['GarageYrBlt'] - train['GarageYrBlt'].mean()) / train['GarageYrBlt'].std()\n",
        "train['GarageArea'] = (train['GarageArea'] - train['GarageArea'].mean()) / train['GarageArea'].std()"
      ]
    },
    {
      "cell_type": "markdown",
      "source": [
        "Dari sekian banyak kolom feature, dipilih beberapa kolom yang berisi data-data numerik yang range-nya cukup jauh dari data-data lainnya. Teknik yang digunakan untuk menanganinya adalah standardisasi dengan menggunakan rumus Z-Score."
      ],
      "metadata": {
        "id": "MJNJR_7W3aOL"
      }
    },
    {
      "cell_type": "code",
      "execution_count": null,
      "metadata": {
        "id": "s61A-lRclHG3",
        "outputId": "58247098-29a1-4e2c-f7da-50d1f6b65e09"
      },
      "outputs": [
        {
          "data": {
            "text/html": [
              "<div>\n",
              "<style scoped>\n",
              "    .dataframe tbody tr th:only-of-type {\n",
              "        vertical-align: middle;\n",
              "    }\n",
              "\n",
              "    .dataframe tbody tr th {\n",
              "        vertical-align: top;\n",
              "    }\n",
              "\n",
              "    .dataframe thead th {\n",
              "        text-align: right;\n",
              "    }\n",
              "</style>\n",
              "<table border=\"1\" class=\"dataframe\">\n",
              "  <thead>\n",
              "    <tr style=\"text-align: right;\">\n",
              "      <th></th>\n",
              "      <th>MSZoning</th>\n",
              "      <th>Street</th>\n",
              "      <th>LotShape</th>\n",
              "      <th>LandContour</th>\n",
              "      <th>Utilities</th>\n",
              "      <th>LotConfig</th>\n",
              "      <th>LandSlope</th>\n",
              "      <th>Neighborhood</th>\n",
              "      <th>Condition1</th>\n",
              "      <th>Condition2</th>\n",
              "      <th>...</th>\n",
              "      <th>GarageYrBlt</th>\n",
              "      <th>GarageFinish</th>\n",
              "      <th>GarageCars</th>\n",
              "      <th>GarageArea</th>\n",
              "      <th>GarageQual</th>\n",
              "      <th>GarageCond</th>\n",
              "      <th>PavedDrive</th>\n",
              "      <th>SaleType</th>\n",
              "      <th>SaleCondition</th>\n",
              "      <th>SalePrice</th>\n",
              "    </tr>\n",
              "  </thead>\n",
              "  <tbody>\n",
              "    <tr>\n",
              "      <th>0</th>\n",
              "      <td>3</td>\n",
              "      <td>1</td>\n",
              "      <td>3</td>\n",
              "      <td>3</td>\n",
              "      <td>0</td>\n",
              "      <td>4</td>\n",
              "      <td>0</td>\n",
              "      <td>5</td>\n",
              "      <td>2</td>\n",
              "      <td>2</td>\n",
              "      <td>...</td>\n",
              "      <td>-0.036243</td>\n",
              "      <td>1</td>\n",
              "      <td>2</td>\n",
              "      <td>0.422166</td>\n",
              "      <td>4</td>\n",
              "      <td>4</td>\n",
              "      <td>2</td>\n",
              "      <td>8</td>\n",
              "      <td>4</td>\n",
              "      <td>208500</td>\n",
              "    </tr>\n",
              "    <tr>\n",
              "      <th>1</th>\n",
              "      <td>3</td>\n",
              "      <td>1</td>\n",
              "      <td>3</td>\n",
              "      <td>3</td>\n",
              "      <td>0</td>\n",
              "      <td>2</td>\n",
              "      <td>0</td>\n",
              "      <td>24</td>\n",
              "      <td>1</td>\n",
              "      <td>2</td>\n",
              "      <td>...</td>\n",
              "      <td>-0.039879</td>\n",
              "      <td>1</td>\n",
              "      <td>2</td>\n",
              "      <td>-0.009121</td>\n",
              "      <td>4</td>\n",
              "      <td>4</td>\n",
              "      <td>2</td>\n",
              "      <td>8</td>\n",
              "      <td>4</td>\n",
              "      <td>181500</td>\n",
              "    </tr>\n",
              "    <tr>\n",
              "      <th>2</th>\n",
              "      <td>3</td>\n",
              "      <td>1</td>\n",
              "      <td>0</td>\n",
              "      <td>3</td>\n",
              "      <td>0</td>\n",
              "      <td>4</td>\n",
              "      <td>0</td>\n",
              "      <td>5</td>\n",
              "      <td>2</td>\n",
              "      <td>2</td>\n",
              "      <td>...</td>\n",
              "      <td>-0.036512</td>\n",
              "      <td>1</td>\n",
              "      <td>2</td>\n",
              "      <td>0.716226</td>\n",
              "      <td>4</td>\n",
              "      <td>4</td>\n",
              "      <td>2</td>\n",
              "      <td>8</td>\n",
              "      <td>4</td>\n",
              "      <td>223500</td>\n",
              "    </tr>\n",
              "    <tr>\n",
              "      <th>3</th>\n",
              "      <td>3</td>\n",
              "      <td>1</td>\n",
              "      <td>0</td>\n",
              "      <td>3</td>\n",
              "      <td>0</td>\n",
              "      <td>0</td>\n",
              "      <td>0</td>\n",
              "      <td>6</td>\n",
              "      <td>2</td>\n",
              "      <td>2</td>\n",
              "      <td>...</td>\n",
              "      <td>-0.036916</td>\n",
              "      <td>2</td>\n",
              "      <td>3</td>\n",
              "      <td>0.882859</td>\n",
              "      <td>4</td>\n",
              "      <td>4</td>\n",
              "      <td>2</td>\n",
              "      <td>8</td>\n",
              "      <td>0</td>\n",
              "      <td>140000</td>\n",
              "    </tr>\n",
              "    <tr>\n",
              "      <th>4</th>\n",
              "      <td>3</td>\n",
              "      <td>1</td>\n",
              "      <td>0</td>\n",
              "      <td>3</td>\n",
              "      <td>0</td>\n",
              "      <td>2</td>\n",
              "      <td>0</td>\n",
              "      <td>15</td>\n",
              "      <td>2</td>\n",
              "      <td>2</td>\n",
              "      <td>...</td>\n",
              "      <td>-0.036647</td>\n",
              "      <td>1</td>\n",
              "      <td>3</td>\n",
              "      <td>1.833652</td>\n",
              "      <td>4</td>\n",
              "      <td>4</td>\n",
              "      <td>2</td>\n",
              "      <td>8</td>\n",
              "      <td>4</td>\n",
              "      <td>250000</td>\n",
              "    </tr>\n",
              "  </tbody>\n",
              "</table>\n",
              "<p>5 rows × 53 columns</p>\n",
              "</div>"
            ],
            "text/plain": [
              "   MSZoning  Street  LotShape  LandContour  Utilities  LotConfig  LandSlope  \\\n",
              "0         3       1         3            3          0          4          0   \n",
              "1         3       1         3            3          0          2          0   \n",
              "2         3       1         0            3          0          4          0   \n",
              "3         3       1         0            3          0          0          0   \n",
              "4         3       1         0            3          0          2          0   \n",
              "\n",
              "   Neighborhood  Condition1  Condition2  ...  GarageYrBlt  GarageFinish  \\\n",
              "0             5           2           2  ...    -0.036243             1   \n",
              "1            24           1           2  ...    -0.039879             1   \n",
              "2             5           2           2  ...    -0.036512             1   \n",
              "3             6           2           2  ...    -0.036916             2   \n",
              "4            15           2           2  ...    -0.036647             1   \n",
              "\n",
              "   GarageCars  GarageArea  GarageQual  GarageCond  PavedDrive  SaleType  \\\n",
              "0           2    0.422166           4           4           2         8   \n",
              "1           2   -0.009121           4           4           2         8   \n",
              "2           2    0.716226           4           4           2         8   \n",
              "3           3    0.882859           4           4           2         8   \n",
              "4           3    1.833652           4           4           2         8   \n",
              "\n",
              "   SaleCondition  SalePrice  \n",
              "0              4     208500  \n",
              "1              4     181500  \n",
              "2              4     223500  \n",
              "3              0     140000  \n",
              "4              4     250000  \n",
              "\n",
              "[5 rows x 53 columns]"
            ]
          },
          "execution_count": 3160,
          "metadata": {},
          "output_type": "execute_result"
        }
      ],
      "source": [
        "train.head()"
      ]
    },
    {
      "cell_type": "markdown",
      "source": [
        "Berikut adalah data setelah distandardisasi."
      ],
      "metadata": {
        "id": "CAFLb6Rz320o"
      }
    },
    {
      "cell_type": "markdown",
      "source": [
        "###Pembuatan dan Evaluasi Model"
      ],
      "metadata": {
        "id": "Zfw-1QJZ4Ajo"
      }
    },
    {
      "cell_type": "code",
      "execution_count": null,
      "metadata": {
        "id": "ZSeduXFrlHG3"
      },
      "outputs": [],
      "source": [
        "X = train.drop(['SalePrice'], axis=1)\n",
        "y = train['SalePrice']\n",
        "X_train, X_test, y_train, y_test = train_test_split(X, y, test_size=0.3, random_state=42)"
      ]
    },
    {
      "cell_type": "markdown",
      "source": [
        "Definisikan variabel independen X untuk semua feature kecuali 'SalePrice', karena 'SalePrice' adalah variabel dependen y. Data di-split dengan besar training size 70% dan testing size 30%."
      ],
      "metadata": {
        "id": "xhy7ffTR4QXJ"
      }
    },
    {
      "cell_type": "code",
      "execution_count": null,
      "metadata": {
        "id": "7s9ixNqklHG4"
      },
      "outputs": [],
      "source": [
        "lr = linear_model.LinearRegression()"
      ]
    },
    {
      "cell_type": "code",
      "execution_count": null,
      "metadata": {
        "id": "OXBWotZQlHG4"
      },
      "outputs": [],
      "source": [
        "model = lr.fit(X_train, y_train)"
      ]
    },
    {
      "cell_type": "code",
      "execution_count": null,
      "metadata": {
        "id": "5JeX2YuulHG4"
      },
      "outputs": [],
      "source": [
        "predictions = model.predict(X_test)"
      ]
    },
    {
      "cell_type": "markdown",
      "source": [
        "Sesuai dengan topik materi, model yang akan digunakan adalah model regresi linear (Linear Regression). Data X dan y di-fit sedemikian rupa untuk proses training, lalu diujikan pada data testing untuk memperoleh nilai prediksi hasil regresi."
      ],
      "metadata": {
        "id": "6CuBuUwW4riI"
      }
    },
    {
      "cell_type": "code",
      "execution_count": null,
      "metadata": {
        "id": "pHiwAu3tlHG4",
        "outputId": "fc0ec8b0-4fd9-46b6-8c35-63ed0a66b297"
      },
      "outputs": [
        {
          "name": "stdout",
          "output_type": "stream",
          "text": [
            "23689.22267357089\n",
            "17113.386346391188\n"
          ]
        }
      ],
      "source": [
        "print(sqrt(mean_squared_error(y_test, predictions)))\n",
        "print(mean_absolute_error(y_test, predictions))"
      ]
    },
    {
      "cell_type": "markdown",
      "source": [
        "Hasil regresi testing dievaluasi dengan metrics berupa RMSE (Root Mean Squared Error) dan MAE (Mean Absolute Error) untuk memperoleh perkiraan error dari setiap data aslinya."
      ],
      "metadata": {
        "id": "hDteTdoi5Dcn"
      }
    },
    {
      "cell_type": "code",
      "execution_count": null,
      "metadata": {
        "id": "VE4APOMJlHG4",
        "outputId": "b5090ca8-35f6-4f57-ac4f-530b30ac1e59"
      },
      "outputs": [
        {
          "name": "stdout",
          "output_type": "stream",
          "text": [
            "Nilai R2 score = 87.37 %\n"
          ]
        }
      ],
      "source": [
        "print(f\"Nilai R2 score = {round(model.score(X_test, y_test) * 100, 2)} %\")"
      ]
    },
    {
      "cell_type": "markdown",
      "source": [
        "Selain itu, metrics R2 score (koefisien determinasi) juga dapat digunakan untuk memperoleh besarnya kemungkinan variabel independen X dapat menjelaskan variabel dependen y pada model. **Dari hasil tersebut, diketahui bahwa model regresi linear yang dibentuk telah berhasil sekitar 87% untuk menjelaskan keterkaitan feature-feature yang ada terhadap harga jual rumah**."
      ],
      "metadata": {
        "id": "56UTqvqu5Ypj"
      }
    }
  ],
  "metadata": {
    "kernelspec": {
      "display_name": "Python 3",
      "language": "python",
      "name": "python3"
    },
    "language_info": {
      "codemirror_mode": {
        "name": "ipython",
        "version": 3
      },
      "file_extension": ".py",
      "mimetype": "text/x-python",
      "name": "python",
      "nbconvert_exporter": "python",
      "pygments_lexer": "ipython3",
      "version": "3.10.9"
    },
    "orig_nbformat": 4,
    "colab": {
      "provenance": []
    }
  },
  "nbformat": 4,
  "nbformat_minor": 0
}