{
  "cells": [
    {
      "attachments": {},
      "cell_type": "markdown",
      "metadata": {
        "id": "Y2Yq6KOtfUic"
      },
      "source": [
        "## **Assignment 4 - Machine Learning - LB01**\n",
        "### **Fendy Wijaya - 2602092150**\n",
        "### **Naive Bayes Model Implementation Using Library**"
      ]
    },
    {
      "cell_type": "markdown",
      "metadata": {
        "id": "KfFX2_x0GGiH"
      },
      "source": [
        "#Code"
      ]
    },
    {
      "cell_type": "code",
      "execution_count": 44,
      "metadata": {
        "id": "CM5uysDJ5Roe"
      },
      "outputs": [],
      "source": [
        "import os\n",
        "for dirname, _, filenames in os.walk('/kaggle/input'):\n",
        "    for filename in filenames:\n",
        "        print(os.path.join(dirname, filename))\n",
        "\n",
        "# Data wrangling\n",
        "import pandas as pd\n",
        "import numpy as np\n",
        "import missingno\n",
        "from collections import Counter\n",
        "\n",
        "# Data visualisation\n",
        "import seaborn as sns\n",
        "import matplotlib.pyplot as plt\n",
        "\n",
        "# Machine learning models\n",
        "from sklearn.linear_model import LogisticRegression, Perceptron, SGDClassifier\n",
        "from sklearn.svm import SVC, LinearSVC\n",
        "from sklearn.ensemble import RandomForestClassifier\n",
        "from sklearn.neighbors import KNeighborsClassifier\n",
        "from sklearn.naive_bayes import GaussianNB\n",
        "from sklearn.tree import DecisionTreeClassifier\n",
        "\n",
        "# Model evaluation\n",
        "from sklearn.model_selection import cross_val_score\n",
        "\n",
        "# Hyperparameter tuning\n",
        "from sklearn.model_selection import GridSearchCV\n",
        "\n",
        "# Remove warnings\n",
        "import warnings\n",
        "warnings.filterwarnings('ignore')"
      ]
    },
    {
      "cell_type": "code",
      "execution_count": 45,
      "metadata": {
        "id": "5jvUiV5B5WTg"
      },
      "outputs": [],
      "source": [
        "train = pd.read_csv(\"train.csv\")"
      ]
    },
    {
      "cell_type": "code",
      "execution_count": 46,
      "metadata": {
        "colab": {
          "base_uri": "https://localhost:8080/",
          "height": 258
        },
        "id": "rQmeKGNH-A_H",
        "outputId": "20faa1d1-05f9-4df5-afcc-1dfc719d17d4"
      },
      "outputs": [
        {
          "data": {
            "text/html": [
              "<div>\n",
              "<style scoped>\n",
              "    .dataframe tbody tr th:only-of-type {\n",
              "        vertical-align: middle;\n",
              "    }\n",
              "\n",
              "    .dataframe tbody tr th {\n",
              "        vertical-align: top;\n",
              "    }\n",
              "\n",
              "    .dataframe thead th {\n",
              "        text-align: right;\n",
              "    }\n",
              "</style>\n",
              "<table border=\"1\" class=\"dataframe\">\n",
              "  <thead>\n",
              "    <tr style=\"text-align: right;\">\n",
              "      <th></th>\n",
              "      <th>PassengerId</th>\n",
              "      <th>Survived</th>\n",
              "      <th>Pclass</th>\n",
              "      <th>Name</th>\n",
              "      <th>Sex</th>\n",
              "      <th>Age</th>\n",
              "      <th>SibSp</th>\n",
              "      <th>Parch</th>\n",
              "      <th>Ticket</th>\n",
              "      <th>Fare</th>\n",
              "      <th>Cabin</th>\n",
              "      <th>Embarked</th>\n",
              "    </tr>\n",
              "  </thead>\n",
              "  <tbody>\n",
              "    <tr>\n",
              "      <th>0</th>\n",
              "      <td>1</td>\n",
              "      <td>0</td>\n",
              "      <td>3</td>\n",
              "      <td>Braund, Mr. Owen Harris</td>\n",
              "      <td>male</td>\n",
              "      <td>22.0</td>\n",
              "      <td>1</td>\n",
              "      <td>0</td>\n",
              "      <td>A/5 21171</td>\n",
              "      <td>7.2500</td>\n",
              "      <td>NaN</td>\n",
              "      <td>S</td>\n",
              "    </tr>\n",
              "    <tr>\n",
              "      <th>1</th>\n",
              "      <td>2</td>\n",
              "      <td>1</td>\n",
              "      <td>1</td>\n",
              "      <td>Cumings, Mrs. John Bradley (Florence Briggs Th...</td>\n",
              "      <td>female</td>\n",
              "      <td>38.0</td>\n",
              "      <td>1</td>\n",
              "      <td>0</td>\n",
              "      <td>PC 17599</td>\n",
              "      <td>71.2833</td>\n",
              "      <td>C85</td>\n",
              "      <td>C</td>\n",
              "    </tr>\n",
              "    <tr>\n",
              "      <th>2</th>\n",
              "      <td>3</td>\n",
              "      <td>1</td>\n",
              "      <td>3</td>\n",
              "      <td>Heikkinen, Miss. Laina</td>\n",
              "      <td>female</td>\n",
              "      <td>26.0</td>\n",
              "      <td>0</td>\n",
              "      <td>0</td>\n",
              "      <td>STON/O2. 3101282</td>\n",
              "      <td>7.9250</td>\n",
              "      <td>NaN</td>\n",
              "      <td>S</td>\n",
              "    </tr>\n",
              "    <tr>\n",
              "      <th>3</th>\n",
              "      <td>4</td>\n",
              "      <td>1</td>\n",
              "      <td>1</td>\n",
              "      <td>Futrelle, Mrs. Jacques Heath (Lily May Peel)</td>\n",
              "      <td>female</td>\n",
              "      <td>35.0</td>\n",
              "      <td>1</td>\n",
              "      <td>0</td>\n",
              "      <td>113803</td>\n",
              "      <td>53.1000</td>\n",
              "      <td>C123</td>\n",
              "      <td>S</td>\n",
              "    </tr>\n",
              "    <tr>\n",
              "      <th>4</th>\n",
              "      <td>5</td>\n",
              "      <td>0</td>\n",
              "      <td>3</td>\n",
              "      <td>Allen, Mr. William Henry</td>\n",
              "      <td>male</td>\n",
              "      <td>35.0</td>\n",
              "      <td>0</td>\n",
              "      <td>0</td>\n",
              "      <td>373450</td>\n",
              "      <td>8.0500</td>\n",
              "      <td>NaN</td>\n",
              "      <td>S</td>\n",
              "    </tr>\n",
              "  </tbody>\n",
              "</table>\n",
              "</div>"
            ],
            "text/plain": [
              "   PassengerId  Survived  Pclass  \\\n",
              "0            1         0       3   \n",
              "1            2         1       1   \n",
              "2            3         1       3   \n",
              "3            4         1       1   \n",
              "4            5         0       3   \n",
              "\n",
              "                                                Name     Sex   Age  SibSp  \\\n",
              "0                            Braund, Mr. Owen Harris    male  22.0      1   \n",
              "1  Cumings, Mrs. John Bradley (Florence Briggs Th...  female  38.0      1   \n",
              "2                             Heikkinen, Miss. Laina  female  26.0      0   \n",
              "3       Futrelle, Mrs. Jacques Heath (Lily May Peel)  female  35.0      1   \n",
              "4                           Allen, Mr. William Henry    male  35.0      0   \n",
              "\n",
              "   Parch            Ticket     Fare Cabin Embarked  \n",
              "0      0         A/5 21171   7.2500   NaN        S  \n",
              "1      0          PC 17599  71.2833   C85        C  \n",
              "2      0  STON/O2. 3101282   7.9250   NaN        S  \n",
              "3      0            113803  53.1000  C123        S  \n",
              "4      0            373450   8.0500   NaN        S  "
            ]
          },
          "execution_count": 46,
          "metadata": {},
          "output_type": "execute_result"
        }
      ],
      "source": [
        "train.head()"
      ]
    },
    {
      "cell_type": "code",
      "execution_count": 47,
      "metadata": {
        "colab": {
          "base_uri": "https://localhost:8080/"
        },
        "id": "WW6EukVT-Twn",
        "outputId": "b590eb81-0025-488f-abbb-832483584c4a"
      },
      "outputs": [
        {
          "name": "stdout",
          "output_type": "stream",
          "text": [
            "(891, 12)\n"
          ]
        }
      ],
      "source": [
        "print(train.shape)"
      ]
    },
    {
      "cell_type": "markdown",
      "metadata": {
        "id": "8Z1odcvu_0MU"
      },
      "source": [
        "#Exploratory Data Analysis (EDA)"
      ]
    },
    {
      "cell_type": "code",
      "execution_count": 48,
      "metadata": {
        "colab": {
          "base_uri": "https://localhost:8080/"
        },
        "id": "EArZ7RgN_68u",
        "outputId": "a2673995-2d96-4e82-e8ea-24701eb0f8db"
      },
      "outputs": [
        {
          "name": "stdout",
          "output_type": "stream",
          "text": [
            "<class 'pandas.core.frame.DataFrame'>\n",
            "RangeIndex: 891 entries, 0 to 890\n",
            "Data columns (total 12 columns):\n",
            " #   Column       Non-Null Count  Dtype  \n",
            "---  ------       --------------  -----  \n",
            " 0   PassengerId  891 non-null    int64  \n",
            " 1   Survived     891 non-null    int64  \n",
            " 2   Pclass       891 non-null    int64  \n",
            " 3   Name         891 non-null    object \n",
            " 4   Sex          891 non-null    object \n",
            " 5   Age          714 non-null    float64\n",
            " 6   SibSp        891 non-null    int64  \n",
            " 7   Parch        891 non-null    int64  \n",
            " 8   Ticket       891 non-null    object \n",
            " 9   Fare         891 non-null    float64\n",
            " 10  Cabin        204 non-null    object \n",
            " 11  Embarked     889 non-null    object \n",
            "dtypes: float64(2), int64(5), object(5)\n",
            "memory usage: 83.7+ KB\n"
          ]
        }
      ],
      "source": [
        "train.info()"
      ]
    },
    {
      "cell_type": "code",
      "execution_count": 49,
      "metadata": {
        "colab": {
          "base_uri": "https://localhost:8080/"
        },
        "id": "TcUjRCJ6AcxB",
        "outputId": "a7e9a1ab-ad24-49e0-fee7-759db37d73ef"
      },
      "outputs": [
        {
          "data": {
            "text/plain": [
              "Cabin          687\n",
              "Age            177\n",
              "Embarked         2\n",
              "PassengerId      0\n",
              "Survived         0\n",
              "Pclass           0\n",
              "Name             0\n",
              "Sex              0\n",
              "SibSp            0\n",
              "Parch            0\n",
              "Ticket           0\n",
              "Fare             0\n",
              "dtype: int64"
            ]
          },
          "execution_count": 49,
          "metadata": {},
          "output_type": "execute_result"
        }
      ],
      "source": [
        "train.isnull().sum().sort_values(ascending = False)"
      ]
    },
    {
      "cell_type": "markdown",
      "metadata": {
        "id": "7DbGuybrJiik"
      },
      "source": [
        "Sampai pada tahap ini, kita dapat ketahui bahwa train dan test dataset masih belum bersih karena beberapa feature masih memiliki nilai null value."
      ]
    },
    {
      "cell_type": "code",
      "execution_count": 50,
      "metadata": {
        "colab": {
          "base_uri": "https://localhost:8080/",
          "height": 300
        },
        "id": "tXvJFBu4BBhe",
        "outputId": "d9ac08eb-1994-455c-d388-f170b0606349"
      },
      "outputs": [
        {
          "data": {
            "text/html": [
              "<div>\n",
              "<style scoped>\n",
              "    .dataframe tbody tr th:only-of-type {\n",
              "        vertical-align: middle;\n",
              "    }\n",
              "\n",
              "    .dataframe tbody tr th {\n",
              "        vertical-align: top;\n",
              "    }\n",
              "\n",
              "    .dataframe thead th {\n",
              "        text-align: right;\n",
              "    }\n",
              "</style>\n",
              "<table border=\"1\" class=\"dataframe\">\n",
              "  <thead>\n",
              "    <tr style=\"text-align: right;\">\n",
              "      <th></th>\n",
              "      <th>PassengerId</th>\n",
              "      <th>Survived</th>\n",
              "      <th>Pclass</th>\n",
              "      <th>Age</th>\n",
              "      <th>SibSp</th>\n",
              "      <th>Parch</th>\n",
              "      <th>Fare</th>\n",
              "    </tr>\n",
              "  </thead>\n",
              "  <tbody>\n",
              "    <tr>\n",
              "      <th>count</th>\n",
              "      <td>891.000000</td>\n",
              "      <td>891.000000</td>\n",
              "      <td>891.000000</td>\n",
              "      <td>714.000000</td>\n",
              "      <td>891.000000</td>\n",
              "      <td>891.000000</td>\n",
              "      <td>891.000000</td>\n",
              "    </tr>\n",
              "    <tr>\n",
              "      <th>mean</th>\n",
              "      <td>446.000000</td>\n",
              "      <td>0.383838</td>\n",
              "      <td>2.308642</td>\n",
              "      <td>29.699118</td>\n",
              "      <td>0.523008</td>\n",
              "      <td>0.381594</td>\n",
              "      <td>32.204208</td>\n",
              "    </tr>\n",
              "    <tr>\n",
              "      <th>std</th>\n",
              "      <td>257.353842</td>\n",
              "      <td>0.486592</td>\n",
              "      <td>0.836071</td>\n",
              "      <td>14.526497</td>\n",
              "      <td>1.102743</td>\n",
              "      <td>0.806057</td>\n",
              "      <td>49.693429</td>\n",
              "    </tr>\n",
              "    <tr>\n",
              "      <th>min</th>\n",
              "      <td>1.000000</td>\n",
              "      <td>0.000000</td>\n",
              "      <td>1.000000</td>\n",
              "      <td>0.420000</td>\n",
              "      <td>0.000000</td>\n",
              "      <td>0.000000</td>\n",
              "      <td>0.000000</td>\n",
              "    </tr>\n",
              "    <tr>\n",
              "      <th>25%</th>\n",
              "      <td>223.500000</td>\n",
              "      <td>0.000000</td>\n",
              "      <td>2.000000</td>\n",
              "      <td>20.125000</td>\n",
              "      <td>0.000000</td>\n",
              "      <td>0.000000</td>\n",
              "      <td>7.910400</td>\n",
              "    </tr>\n",
              "    <tr>\n",
              "      <th>50%</th>\n",
              "      <td>446.000000</td>\n",
              "      <td>0.000000</td>\n",
              "      <td>3.000000</td>\n",
              "      <td>28.000000</td>\n",
              "      <td>0.000000</td>\n",
              "      <td>0.000000</td>\n",
              "      <td>14.454200</td>\n",
              "    </tr>\n",
              "    <tr>\n",
              "      <th>75%</th>\n",
              "      <td>668.500000</td>\n",
              "      <td>1.000000</td>\n",
              "      <td>3.000000</td>\n",
              "      <td>38.000000</td>\n",
              "      <td>1.000000</td>\n",
              "      <td>0.000000</td>\n",
              "      <td>31.000000</td>\n",
              "    </tr>\n",
              "    <tr>\n",
              "      <th>max</th>\n",
              "      <td>891.000000</td>\n",
              "      <td>1.000000</td>\n",
              "      <td>3.000000</td>\n",
              "      <td>80.000000</td>\n",
              "      <td>8.000000</td>\n",
              "      <td>6.000000</td>\n",
              "      <td>512.329200</td>\n",
              "    </tr>\n",
              "  </tbody>\n",
              "</table>\n",
              "</div>"
            ],
            "text/plain": [
              "       PassengerId    Survived      Pclass         Age       SibSp  \\\n",
              "count   891.000000  891.000000  891.000000  714.000000  891.000000   \n",
              "mean    446.000000    0.383838    2.308642   29.699118    0.523008   \n",
              "std     257.353842    0.486592    0.836071   14.526497    1.102743   \n",
              "min       1.000000    0.000000    1.000000    0.420000    0.000000   \n",
              "25%     223.500000    0.000000    2.000000   20.125000    0.000000   \n",
              "50%     446.000000    0.000000    3.000000   28.000000    0.000000   \n",
              "75%     668.500000    1.000000    3.000000   38.000000    1.000000   \n",
              "max     891.000000    1.000000    3.000000   80.000000    8.000000   \n",
              "\n",
              "            Parch        Fare  \n",
              "count  891.000000  891.000000  \n",
              "mean     0.381594   32.204208  \n",
              "std      0.806057   49.693429  \n",
              "min      0.000000    0.000000  \n",
              "25%      0.000000    7.910400  \n",
              "50%      0.000000   14.454200  \n",
              "75%      0.000000   31.000000  \n",
              "max      6.000000  512.329200  "
            ]
          },
          "execution_count": 50,
          "metadata": {},
          "output_type": "execute_result"
        }
      ],
      "source": [
        "train.describe()"
      ]
    },
    {
      "cell_type": "markdown",
      "metadata": {
        "id": "zsFhiFlbKX0J"
      },
      "source": [
        "Dari method describe, kita dapat menangkap ukuran pemusatan dan penyebaran data dari train dataset, mulai dari rata-rata, kuartil, nilai maksimum dan minimum, hingga simpangan baku (standar deviasi)."
      ]
    },
    {
      "cell_type": "markdown",
      "metadata": {
        "id": "SttWFIIOFrK0"
      },
      "source": [
        "##Categorical Variable: Gender"
      ]
    },
    {
      "cell_type": "code",
      "execution_count": 51,
      "metadata": {
        "colab": {
          "base_uri": "https://localhost:8080/"
        },
        "id": "9dQr2LfABaH4",
        "outputId": "56d04bfe-4978-4a68-8bab-5f96088ed450"
      },
      "outputs": [
        {
          "data": {
            "text/plain": [
              "Sex\n",
              "male      577\n",
              "female    314\n",
              "Name: count, dtype: int64"
            ]
          },
          "execution_count": 51,
          "metadata": {},
          "output_type": "execute_result"
        }
      ],
      "source": [
        "train['Sex'].value_counts(dropna = False)"
      ]
    },
    {
      "cell_type": "code",
      "execution_count": 52,
      "metadata": {
        "colab": {
          "base_uri": "https://localhost:8080/",
          "height": 112
        },
        "id": "Sdyeh2tmCUgH",
        "outputId": "cb92cf3f-57d7-46fc-b4d6-09761fd9d4fe"
      },
      "outputs": [
        {
          "data": {
            "text/html": [
              "<div>\n",
              "<style scoped>\n",
              "    .dataframe tbody tr th:only-of-type {\n",
              "        vertical-align: middle;\n",
              "    }\n",
              "\n",
              "    .dataframe tbody tr th {\n",
              "        vertical-align: top;\n",
              "    }\n",
              "\n",
              "    .dataframe thead th {\n",
              "        text-align: right;\n",
              "    }\n",
              "</style>\n",
              "<table border=\"1\" class=\"dataframe\">\n",
              "  <thead>\n",
              "    <tr style=\"text-align: right;\">\n",
              "      <th></th>\n",
              "      <th>Sex</th>\n",
              "      <th>Survived</th>\n",
              "    </tr>\n",
              "  </thead>\n",
              "  <tbody>\n",
              "    <tr>\n",
              "      <th>0</th>\n",
              "      <td>female</td>\n",
              "      <td>0.742038</td>\n",
              "    </tr>\n",
              "    <tr>\n",
              "      <th>1</th>\n",
              "      <td>male</td>\n",
              "      <td>0.188908</td>\n",
              "    </tr>\n",
              "  </tbody>\n",
              "</table>\n",
              "</div>"
            ],
            "text/plain": [
              "      Sex  Survived\n",
              "0  female  0.742038\n",
              "1    male  0.188908"
            ]
          },
          "execution_count": 52,
          "metadata": {},
          "output_type": "execute_result"
        }
      ],
      "source": [
        "train[['Sex', 'Survived']].groupby('Sex', as_index = False).mean()\n",
        "\n",
        "# Kalo mau disort\n",
        "# train[['Sex', 'Survived']].groupby('Sex', as_index = False).mean().sort_values(by = 'Survived', ascending = False)"
      ]
    },
    {
      "cell_type": "code",
      "execution_count": 53,
      "metadata": {
        "colab": {
          "base_uri": "https://localhost:8080/",
          "height": 489
        },
        "id": "1jXKHnJqDB3G",
        "outputId": "9e9c68c4-b77b-406d-dd69-5d8e8dae1b7b"
      },
      "outputs": [
        {
          "data": {
            "text/plain": [
              "Text(0.5, 1.0, 'Survival Probabilities by Gender')"
            ]
          },
          "execution_count": 53,
          "metadata": {},
          "output_type": "execute_result"
        },
        {
          "data": {
            "image/png": "[encoded data removed]",
            "text/plain": [
              "<Figure size 640x480 with 1 Axes>"
            ]
          },
          "metadata": {},
          "output_type": "display_data"
        }
      ],
      "source": [
        "sns.barplot(x = 'Sex', y = 'Survived', data = train)\n",
        "plt.ylabel('Survival Probabilities')\n",
        "plt.title('Survival Probabilities by Gender')"
      ]
    },
    {
      "cell_type": "markdown",
      "metadata": {
        "id": "nHdQ1knjLWcF"
      },
      "source": [
        "Dari sini, kita dapat ketahui bahwa jenis kelamin perempuan memiliki peluang bertahan hidup jauh lebih besar daripada laki-laki. Perempuan berpeluang sekitar 74% untuk bertahan hidup, sementara laki-laki hanya berpeluang sekitar 19% saja untuk bertahan hidup. Ada pengaruh antara feature 'Sex' dengan peluang bertahan hidup individu."
      ]
    },
    {
      "cell_type": "markdown",
      "metadata": {
        "id": "_QsaRgoRF1Kd"
      },
      "source": [
        "##Categorical Variable: Passenger Class"
      ]
    },
    {
      "cell_type": "code",
      "execution_count": 54,
      "metadata": {
        "colab": {
          "base_uri": "https://localhost:8080/"
        },
        "id": "wY3RmpPdEYHr",
        "outputId": "70451cf1-260b-46fb-ace5-6415a4c50669"
      },
      "outputs": [
        {
          "data": {
            "text/plain": [
              "Pclass\n",
              "3    491\n",
              "1    216\n",
              "2    184\n",
              "Name: count, dtype: int64"
            ]
          },
          "execution_count": 54,
          "metadata": {},
          "output_type": "execute_result"
        }
      ],
      "source": [
        "train['Pclass'].value_counts(dropna = False)"
      ]
    },
    {
      "cell_type": "code",
      "execution_count": 55,
      "metadata": {
        "colab": {
          "base_uri": "https://localhost:8080/",
          "height": 143
        },
        "id": "0Omsj489EdzE",
        "outputId": "fac2c6af-022d-4d71-9cc2-94d76968e224"
      },
      "outputs": [
        {
          "data": {
            "text/html": [
              "<div>\n",
              "<style scoped>\n",
              "    .dataframe tbody tr th:only-of-type {\n",
              "        vertical-align: middle;\n",
              "    }\n",
              "\n",
              "    .dataframe tbody tr th {\n",
              "        vertical-align: top;\n",
              "    }\n",
              "\n",
              "    .dataframe thead th {\n",
              "        text-align: right;\n",
              "    }\n",
              "</style>\n",
              "<table border=\"1\" class=\"dataframe\">\n",
              "  <thead>\n",
              "    <tr style=\"text-align: right;\">\n",
              "      <th></th>\n",
              "      <th>Pclass</th>\n",
              "      <th>Survived</th>\n",
              "    </tr>\n",
              "  </thead>\n",
              "  <tbody>\n",
              "    <tr>\n",
              "      <th>0</th>\n",
              "      <td>1</td>\n",
              "      <td>0.629630</td>\n",
              "    </tr>\n",
              "    <tr>\n",
              "      <th>1</th>\n",
              "      <td>2</td>\n",
              "      <td>0.472826</td>\n",
              "    </tr>\n",
              "    <tr>\n",
              "      <th>2</th>\n",
              "      <td>3</td>\n",
              "      <td>0.242363</td>\n",
              "    </tr>\n",
              "  </tbody>\n",
              "</table>\n",
              "</div>"
            ],
            "text/plain": [
              "   Pclass  Survived\n",
              "0       1  0.629630\n",
              "1       2  0.472826\n",
              "2       3  0.242363"
            ]
          },
          "execution_count": 55,
          "metadata": {},
          "output_type": "execute_result"
        }
      ],
      "source": [
        "train[['Pclass', 'Survived']].groupby('Pclass', as_index = False).mean()"
      ]
    },
    {
      "cell_type": "code",
      "execution_count": 56,
      "metadata": {
        "colab": {
          "base_uri": "https://localhost:8080/",
          "height": 489
        },
        "id": "h5VtyV5kEub_",
        "outputId": "1b368a92-c7a0-46ba-cb72-6c94305833f0"
      },
      "outputs": [
        {
          "data": {
            "text/plain": [
              "Text(0.5, 1.0, 'Survival Probabilities by Passenger Class')"
            ]
          },
          "execution_count": 56,
          "metadata": {},
          "output_type": "execute_result"
        },
        {
          "data": {
            "image/png": "[encoded data removed]",
            "text/plain": [
              "<Figure size 640x480 with 1 Axes>"
            ]
          },
          "metadata": {},
          "output_type": "display_data"
        }
      ],
      "source": [
        "sns.barplot(x = 'Pclass', y = 'Survived', data = train)\n",
        "plt.ylabel('Survival Probabilities')\n",
        "plt.title('Survival Probabilities by Passenger Class')"
      ]
    },
    {
      "cell_type": "markdown",
      "metadata": {
        "id": "kFOkr6YMMyyf"
      },
      "source": [
        "Dari sini, kita dapat ketahui bahwa feature passenger class 1 memiliki peluang bertahan hidup yang cukup besar, yaitu 63%. Passenger class 2 berpeluang bertahan sebesar 47% dan passenger class 3 berpeluang 24%. Ditemukan bahwa ada pengaruh antara feature 'Pclass' dengan peluang bertahan hidup individu."
      ]
    },
    {
      "cell_type": "markdown",
      "metadata": {
        "id": "N_oL3mPTF5bl"
      },
      "source": [
        "##Categorical Variable: Embarked"
      ]
    },
    {
      "cell_type": "code",
      "execution_count": 57,
      "metadata": {
        "colab": {
          "base_uri": "https://localhost:8080/"
        },
        "id": "gzTodnxdFOkv",
        "outputId": "a50f1139-e026-464d-929e-04c0b8bff3f0"
      },
      "outputs": [
        {
          "data": {
            "text/plain": [
              "Embarked\n",
              "S      644\n",
              "C      168\n",
              "Q       77\n",
              "NaN      2\n",
              "Name: count, dtype: int64"
            ]
          },
          "execution_count": 57,
          "metadata": {},
          "output_type": "execute_result"
        }
      ],
      "source": [
        "train['Embarked'].value_counts(dropna = False)"
      ]
    },
    {
      "cell_type": "code",
      "execution_count": 58,
      "metadata": {
        "colab": {
          "base_uri": "https://localhost:8080/",
          "height": 143
        },
        "id": "O9Uxm6hrFUhk",
        "outputId": "a5ffca50-3c00-45d2-b0db-40ced8ce52b2"
      },
      "outputs": [
        {
          "data": {
            "text/html": [
              "<div>\n",
              "<style scoped>\n",
              "    .dataframe tbody tr th:only-of-type {\n",
              "        vertical-align: middle;\n",
              "    }\n",
              "\n",
              "    .dataframe tbody tr th {\n",
              "        vertical-align: top;\n",
              "    }\n",
              "\n",
              "    .dataframe thead th {\n",
              "        text-align: right;\n",
              "    }\n",
              "</style>\n",
              "<table border=\"1\" class=\"dataframe\">\n",
              "  <thead>\n",
              "    <tr style=\"text-align: right;\">\n",
              "      <th></th>\n",
              "      <th>Embarked</th>\n",
              "      <th>Survived</th>\n",
              "    </tr>\n",
              "  </thead>\n",
              "  <tbody>\n",
              "    <tr>\n",
              "      <th>0</th>\n",
              "      <td>C</td>\n",
              "      <td>0.553571</td>\n",
              "    </tr>\n",
              "    <tr>\n",
              "      <th>1</th>\n",
              "      <td>Q</td>\n",
              "      <td>0.389610</td>\n",
              "    </tr>\n",
              "    <tr>\n",
              "      <th>2</th>\n",
              "      <td>S</td>\n",
              "      <td>0.336957</td>\n",
              "    </tr>\n",
              "  </tbody>\n",
              "</table>\n",
              "</div>"
            ],
            "text/plain": [
              "  Embarked  Survived\n",
              "0        C  0.553571\n",
              "1        Q  0.389610\n",
              "2        S  0.336957"
            ]
          },
          "execution_count": 58,
          "metadata": {},
          "output_type": "execute_result"
        }
      ],
      "source": [
        "train[['Embarked', 'Survived']].groupby('Embarked', as_index = False).mean()"
      ]
    },
    {
      "cell_type": "code",
      "execution_count": 59,
      "metadata": {
        "colab": {
          "base_uri": "https://localhost:8080/",
          "height": 489
        },
        "id": "WJhR7FVKFa2K",
        "outputId": "dd69b9d1-7d22-4b09-a63a-c1beb7f69e35"
      },
      "outputs": [
        {
          "data": {
            "text/plain": [
              "Text(0.5, 1.0, 'Survival Probabilities by Embarked')"
            ]
          },
          "execution_count": 59,
          "metadata": {},
          "output_type": "execute_result"
        },
        {
          "data": {
            "image/png": "[encoded data removed]",
            "text/plain": [
              "<Figure size 640x480 with 1 Axes>"
            ]
          },
          "metadata": {},
          "output_type": "display_data"
        }
      ],
      "source": [
        "sns.barplot(x = 'Embarked', y = 'Survived', data = train)\n",
        "plt.ylabel('Survival Probabilities')\n",
        "plt.title('Survival Probabilities by Embarked')"
      ]
    },
    {
      "cell_type": "markdown",
      "metadata": {
        "id": "x-51cWFQPEOH"
      },
      "source": [
        "Dari sini, kita dapat ketahui bahwa feature Embarked C memiliki peluang bertahan hidup jauh lebih besar dibandingkan S dan Q, yaitu sebesar 55%. Berbeda dengan Embarked Q yang peluangnya sebesar 39% dan S dengan peluang sebesar 34%. Ada pola pengaruh yang dimunculkan oleh feature 'Embarked' dengan peluang bertahan hidup individu."
      ]
    },
    {
      "cell_type": "markdown",
      "metadata": {
        "id": "6Q9NcBGJOBU3"
      },
      "source": [
        "##Bivariate Analysis: Pclass and Embarked"
      ]
    },
    {
      "cell_type": "code",
      "execution_count": 60,
      "metadata": {
        "colab": {
          "base_uri": "https://localhost:8080/",
          "height": 367
        },
        "id": "ohqjBoc_Gx9T",
        "outputId": "cb0561d2-0b6d-4a51-bb58-e0701ed33dc7"
      },
      "outputs": [
        {
          "data": {
            "text/plain": [
              "<seaborn.axisgrid.FacetGrid at 0x20e23dbead0>"
            ]
          },
          "execution_count": 60,
          "metadata": {},
          "output_type": "execute_result"
        },
        {
          "data": {
            "image/png": "[encoded data removed]",
            "text/plain": [
              "<Figure size 1511.11x500 with 3 Axes>"
            ]
          },
          "metadata": {},
          "output_type": "display_data"
        }
      ],
      "source": [
        "sns.catplot(x = 'Pclass', col = 'Embarked', data = train, kind = 'count')"
      ]
    },
    {
      "cell_type": "markdown",
      "metadata": {
        "id": "iFo6Q1EyObLe"
      },
      "source": [
        "Analisis ini menggunakan dua feature sekaligus, yaitu Pclass dan Embarked, yang secara analisis univariat jelas menunjukkan adanya pengaruh pada peluang bertahan hidup. Dari analisis bivariat ini, ditemukan pola bahwa tempat embarkasi yang paling banyak orang minati adalah Embarked S, khususnya kelas penumpang ke-3. Kita dapat melihat pola perilaku penumpang kapal dari analisis ini."
      ]
    },
    {
      "cell_type": "markdown",
      "metadata": {
        "id": "_oHuyJezSANn"
      },
      "source": [
        "##Multivariate Analysis: Embarked, Pclass, Sex"
      ]
    },
    {
      "cell_type": "code",
      "execution_count": 61,
      "metadata": {
        "colab": {
          "base_uri": "https://localhost:8080/",
          "height": 684
        },
        "id": "hEB-RXHoG71H",
        "outputId": "4e991dc4-9c67-4e8c-9b58-3b1f7b84fc53"
      },
      "outputs": [
        {
          "data": {
            "text/plain": [
              "<seaborn.axisgrid.FacetGrid at 0x20e20f028f0>"
            ]
          },
          "execution_count": 61,
          "metadata": {},
          "output_type": "execute_result"
        },
        {
          "data": {
            "image/png": "[encoded data removed]",
            "text/plain": [
              "<Figure size 450x660 with 3 Axes>"
            ]
          },
          "metadata": {},
          "output_type": "display_data"
        }
      ],
      "source": [
        "grid = sns.FacetGrid(train, row = 'Embarked', height = 2.2, aspect = 1.6)\n",
        "grid.map(sns.pointplot, 'Pclass', 'Survived', 'Sex', palette = 'deep')\n",
        "grid.add_legend()"
      ]
    },
    {
      "cell_type": "markdown",
      "metadata": {
        "id": "6EG3e9UGSfzB"
      },
      "source": [
        "Analisis ini menunjukkan pengaruh yang dimunculkan oleh banyak variabel sekaligus terhadap peluang bertahan hidup individu. Terlihat bahwa untuk wilayah embarkasi Q, mayoritas perempuan selamat dan laki-laki tidak selamat. Berbeda dengan S dan C, yang laki-lakinya cenderung selamat dan perempuan cenderung tidak selamat. Akan tetapi, gap yang terbentuk pada Embarked S dan C tidak sejauh gap pada Embarked Q dengan peluang hampir nol dan hampir 1 untuk semua kelas penumpang."
      ]
    },
    {
      "cell_type": "markdown",
      "metadata": {
        "id": "8ZIBg1-MTfpA"
      },
      "source": [
        "##Heatmap Correlation Analysis"
      ]
    },
    {
      "cell_type": "code",
      "execution_count": 62,
      "metadata": {
        "colab": {
          "base_uri": "https://localhost:8080/",
          "height": 452
        },
        "id": "oQNLQ5wJJrc8",
        "outputId": "ff55008d-97c4-40dc-c8b0-c6c14a7d1bee"
      },
      "outputs": [
        {
          "data": {
            "text/plain": [
              "<Axes: >"
            ]
          },
          "execution_count": 62,
          "metadata": {},
          "output_type": "execute_result"
        },
        {
          "data": {
            "image/png": "[encoded data removed]",
            "text/plain": [
              "<Figure size 640x480 with 2 Axes>"
            ]
          },
          "metadata": {},
          "output_type": "display_data"
        }
      ],
      "source": [
        "sns.heatmap(train[['Survived', 'SibSp', 'Parch', 'Age', 'Fare']].corr(), annot = True, fmt = '.2f', cmap = 'coolwarm')"
      ]
    },
    {
      "cell_type": "markdown",
      "metadata": {
        "id": "Nu_XeW4RT0bU"
      },
      "source": [
        "Dari heatmap tersebut, kita dapat menemukan korelasi antarfeature, di mana feature 'Fare' memiliki korelasi positif dengan semua feature lain, hanya saja tidak terlalu signifikan. Feature 'Age' memiliki korelasi negatif dengan variabel lain. Feature 'Parch' berkorelasi positif, dan ada pengaruh yang signifikan pada hubungan dengan feature 'SibSp'."
      ]
    },
    {
      "cell_type": "markdown",
      "metadata": {
        "id": "WzMihvbYUodg"
      },
      "source": [
        "##Age Distribution (Skewness)"
      ]
    },
    {
      "cell_type": "code",
      "execution_count": 63,
      "metadata": {
        "colab": {
          "base_uri": "https://localhost:8080/",
          "height": 489
        },
        "id": "PJsT_0WlLJmr",
        "outputId": "7a0847ce-5e8c-432c-d570-4f9fcae0a7b7"
      },
      "outputs": [
        {
          "data": {
            "text/plain": [
              "Text(0.5, 1.0, 'Passenger Age Distribution')"
            ]
          },
          "execution_count": 63,
          "metadata": {},
          "output_type": "execute_result"
        },
        {
          "data": {
            "image/png": "[encoded data removed]",
            "text/plain": [
              "<Figure size 640x480 with 1 Axes>"
            ]
          },
          "metadata": {},
          "output_type": "display_data"
        }
      ],
      "source": [
        "sns.distplot(train['Age'], label = 'Skewness: %.2f'%(train['Age'].skew()))\n",
        "plt.legend(loc = 'best')\n",
        "plt.title(\"Passenger Age Distribution\")"
      ]
    },
    {
      "cell_type": "markdown",
      "metadata": {
        "id": "kNT4mSMzU4OV"
      },
      "source": [
        "Dari sini, kita dapat mengetahui bahwa penumpang didominasi oleh orang-orang berusia muda sekitar 20-30 tahun, dengan kurva yang cukup miring di sisi kanan."
      ]
    },
    {
      "cell_type": "markdown",
      "metadata": {
        "id": "x-YtarAGVIok"
      },
      "source": [
        "##Age Distribution by Survivability"
      ]
    },
    {
      "cell_type": "code",
      "execution_count": 64,
      "metadata": {
        "colab": {
          "base_uri": "https://localhost:8080/",
          "height": 324
        },
        "id": "XlxFVa1lMMRQ",
        "outputId": "974176a9-914f-42ad-d96a-9ec3168e2374"
      },
      "outputs": [
        {
          "data": {
            "text/plain": [
              "<seaborn.axisgrid.FacetGrid at 0x20e2562b250>"
            ]
          },
          "execution_count": 64,
          "metadata": {},
          "output_type": "execute_result"
        },
        {
          "data": {
            "image/png": "[encoded data removed]",
            "text/plain": [
              "<Figure size 600x300 with 2 Axes>"
            ]
          },
          "metadata": {},
          "output_type": "display_data"
        }
      ],
      "source": [
        "g = sns.FacetGrid(train, col = 'Survived')\n",
        "g.map(sns.distplot, 'Age')"
      ]
    },
    {
      "cell_type": "markdown",
      "metadata": {
        "id": "pdHTmqaXVVvo"
      },
      "source": [
        "Sampai tahap ini, kita dapat ketahui bahwa usia sekitar 25 tahun mendominasi di kedua kondisi, baik yang bertahan maupun tidak. Hanya saja, kerapatan survivality memang lebih besar untuk kondisi tidak bertahan hidup. Sementara untuk kondisi bertahan hidup, terlihat bahwa usia balita juga memiliki kerapatan cukup tinggi, menunjukkan tren adanya kejadian balita-balita yang selamat dari peristiwa tersebut."
      ]
    },
    {
      "cell_type": "markdown",
      "metadata": {
        "id": "UGqbKqFtWhIW"
      },
      "source": [
        "#Data Preprocessing"
      ]
    },
    {
      "cell_type": "markdown",
      "metadata": {
        "id": "oLp_kKpDmHBA"
      },
      "source": [
        "##Handling Missing Values"
      ]
    },
    {
      "cell_type": "markdown",
      "metadata": {
        "id": "b2Mc0m9bWq8Z"
      },
      "source": [
        "Lakukan pengecekan feature yang memiliki nilai null."
      ]
    },
    {
      "cell_type": "code",
      "execution_count": 65,
      "metadata": {
        "colab": {
          "base_uri": "https://localhost:8080/"
        },
        "id": "G4qG3T62M_G0",
        "outputId": "3f150160-f5a4-4d6f-b169-edd3bde94ba2"
      },
      "outputs": [
        {
          "data": {
            "text/plain": [
              "PassengerId      0\n",
              "Survived         0\n",
              "Pclass           0\n",
              "Name             0\n",
              "Sex              0\n",
              "Age            177\n",
              "SibSp            0\n",
              "Parch            0\n",
              "Ticket           0\n",
              "Fare             0\n",
              "Cabin          687\n",
              "Embarked         2\n",
              "dtype: int64"
            ]
          },
          "execution_count": 65,
          "metadata": {},
          "output_type": "execute_result"
        }
      ],
      "source": [
        "train.isnull().sum()"
      ]
    },
    {
      "cell_type": "code",
      "execution_count": 66,
      "metadata": {
        "id": "V494m1jXNWXc"
      },
      "outputs": [],
      "source": [
        "train = train.drop(['Cabin'], axis = 1)"
      ]
    },
    {
      "cell_type": "markdown",
      "metadata": {
        "id": "P0WyIp3kWxdp"
      },
      "source": [
        "Feature 'Cabin' memiliki nilai null yang sangat banyak. Akan tetapi, feature ini terlihat tidak ada hubungannya dengan peluang bertahan hidup seseorang, sehingga kita dapat menghapus feature ini agar tidak mengganggu proses kerja mesin."
      ]
    },
    {
      "cell_type": "code",
      "execution_count": 67,
      "metadata": {
        "colab": {
          "base_uri": "https://localhost:8080/",
          "height": 258
        },
        "id": "DT-Mn6I-Nd8S",
        "outputId": "22cf5009-2c2b-44f9-cad5-106156c07398"
      },
      "outputs": [
        {
          "data": {
            "text/html": [
              "<div>\n",
              "<style scoped>\n",
              "    .dataframe tbody tr th:only-of-type {\n",
              "        vertical-align: middle;\n",
              "    }\n",
              "\n",
              "    .dataframe tbody tr th {\n",
              "        vertical-align: top;\n",
              "    }\n",
              "\n",
              "    .dataframe thead th {\n",
              "        text-align: right;\n",
              "    }\n",
              "</style>\n",
              "<table border=\"1\" class=\"dataframe\">\n",
              "  <thead>\n",
              "    <tr style=\"text-align: right;\">\n",
              "      <th></th>\n",
              "      <th>PassengerId</th>\n",
              "      <th>Survived</th>\n",
              "      <th>Pclass</th>\n",
              "      <th>Name</th>\n",
              "      <th>Sex</th>\n",
              "      <th>Age</th>\n",
              "      <th>SibSp</th>\n",
              "      <th>Parch</th>\n",
              "      <th>Ticket</th>\n",
              "      <th>Fare</th>\n",
              "      <th>Embarked</th>\n",
              "    </tr>\n",
              "  </thead>\n",
              "  <tbody>\n",
              "    <tr>\n",
              "      <th>0</th>\n",
              "      <td>1</td>\n",
              "      <td>0</td>\n",
              "      <td>3</td>\n",
              "      <td>Braund, Mr. Owen Harris</td>\n",
              "      <td>male</td>\n",
              "      <td>22.0</td>\n",
              "      <td>1</td>\n",
              "      <td>0</td>\n",
              "      <td>A/5 21171</td>\n",
              "      <td>7.2500</td>\n",
              "      <td>S</td>\n",
              "    </tr>\n",
              "    <tr>\n",
              "      <th>1</th>\n",
              "      <td>2</td>\n",
              "      <td>1</td>\n",
              "      <td>1</td>\n",
              "      <td>Cumings, Mrs. John Bradley (Florence Briggs Th...</td>\n",
              "      <td>female</td>\n",
              "      <td>38.0</td>\n",
              "      <td>1</td>\n",
              "      <td>0</td>\n",
              "      <td>PC 17599</td>\n",
              "      <td>71.2833</td>\n",
              "      <td>C</td>\n",
              "    </tr>\n",
              "    <tr>\n",
              "      <th>2</th>\n",
              "      <td>3</td>\n",
              "      <td>1</td>\n",
              "      <td>3</td>\n",
              "      <td>Heikkinen, Miss. Laina</td>\n",
              "      <td>female</td>\n",
              "      <td>26.0</td>\n",
              "      <td>0</td>\n",
              "      <td>0</td>\n",
              "      <td>STON/O2. 3101282</td>\n",
              "      <td>7.9250</td>\n",
              "      <td>S</td>\n",
              "    </tr>\n",
              "    <tr>\n",
              "      <th>3</th>\n",
              "      <td>4</td>\n",
              "      <td>1</td>\n",
              "      <td>1</td>\n",
              "      <td>Futrelle, Mrs. Jacques Heath (Lily May Peel)</td>\n",
              "      <td>female</td>\n",
              "      <td>35.0</td>\n",
              "      <td>1</td>\n",
              "      <td>0</td>\n",
              "      <td>113803</td>\n",
              "      <td>53.1000</td>\n",
              "      <td>S</td>\n",
              "    </tr>\n",
              "    <tr>\n",
              "      <th>4</th>\n",
              "      <td>5</td>\n",
              "      <td>0</td>\n",
              "      <td>3</td>\n",
              "      <td>Allen, Mr. William Henry</td>\n",
              "      <td>male</td>\n",
              "      <td>35.0</td>\n",
              "      <td>0</td>\n",
              "      <td>0</td>\n",
              "      <td>373450</td>\n",
              "      <td>8.0500</td>\n",
              "      <td>S</td>\n",
              "    </tr>\n",
              "  </tbody>\n",
              "</table>\n",
              "</div>"
            ],
            "text/plain": [
              "   PassengerId  Survived  Pclass  \\\n",
              "0            1         0       3   \n",
              "1            2         1       1   \n",
              "2            3         1       3   \n",
              "3            4         1       1   \n",
              "4            5         0       3   \n",
              "\n",
              "                                                Name     Sex   Age  SibSp  \\\n",
              "0                            Braund, Mr. Owen Harris    male  22.0      1   \n",
              "1  Cumings, Mrs. John Bradley (Florence Briggs Th...  female  38.0      1   \n",
              "2                             Heikkinen, Miss. Laina  female  26.0      0   \n",
              "3       Futrelle, Mrs. Jacques Heath (Lily May Peel)  female  35.0      1   \n",
              "4                           Allen, Mr. William Henry    male  35.0      0   \n",
              "\n",
              "   Parch            Ticket     Fare Embarked  \n",
              "0      0         A/5 21171   7.2500        S  \n",
              "1      0          PC 17599  71.2833        C  \n",
              "2      0  STON/O2. 3101282   7.9250        S  \n",
              "3      0            113803  53.1000        S  \n",
              "4      0            373450   8.0500        S  "
            ]
          },
          "execution_count": 67,
          "metadata": {},
          "output_type": "execute_result"
        }
      ],
      "source": [
        "train.head()"
      ]
    },
    {
      "cell_type": "code",
      "execution_count": 68,
      "metadata": {
        "colab": {
          "base_uri": "https://localhost:8080/"
        },
        "id": "gLE94gPuNu9T",
        "outputId": "fbdcaf6f-0e9c-4890-c5b5-d29b9eb98a91"
      },
      "outputs": [
        {
          "data": {
            "text/plain": [
              "PassengerId      0\n",
              "Survived         0\n",
              "Pclass           0\n",
              "Name             0\n",
              "Sex              0\n",
              "Age            177\n",
              "SibSp            0\n",
              "Parch            0\n",
              "Ticket           0\n",
              "Fare             0\n",
              "Embarked         2\n",
              "dtype: int64"
            ]
          },
          "execution_count": 68,
          "metadata": {},
          "output_type": "execute_result"
        }
      ],
      "source": [
        "train.isnull().sum()"
      ]
    },
    {
      "cell_type": "code",
      "execution_count": 69,
      "metadata": {
        "colab": {
          "base_uri": "https://localhost:8080/",
          "height": 35
        },
        "id": "Bw-xLE9XN-Jb",
        "outputId": "4b3a15d8-8ed6-4dd7-d91b-2e67e1abfbc1"
      },
      "outputs": [
        {
          "data": {
            "text/plain": [
              "'S'"
            ]
          },
          "execution_count": 69,
          "metadata": {},
          "output_type": "execute_result"
        }
      ],
      "source": [
        "mode = train['Embarked'].dropna().mode()[0]\n",
        "mode"
      ]
    },
    {
      "cell_type": "code",
      "execution_count": 70,
      "metadata": {
        "id": "bYQVS-VQOLD6"
      },
      "outputs": [],
      "source": [
        "train['Embarked'].fillna(mode, inplace = True)"
      ]
    },
    {
      "cell_type": "markdown",
      "metadata": {
        "id": "k7UGOLQEXK8i"
      },
      "source": [
        "Feature 'Embarked' memiliki null value yang sangat sedikit, hanya 2 row saja. Data ini merupakan data kategorik, sehingga untuk menanganinya, kita dapat mengisi null value tersebut dengan data yang menjadi modus dari kolom 'Embarked', yaitu S. Hal ini disebabkan karena kemungkinan muncul S cukup besar, sehingga kemungkinan besar nilai null value ini diisi oleh S."
      ]
    },
    {
      "cell_type": "code",
      "execution_count": 71,
      "metadata": {
        "colab": {
          "base_uri": "https://localhost:8080/"
        },
        "id": "EFHUiO0OOpHS",
        "outputId": "9fc92b80-2798-49e6-9c4e-b8a28e5d5c1f"
      },
      "outputs": [
        {
          "data": {
            "text/plain": [
              "PassengerId      0\n",
              "Survived         0\n",
              "Pclass           0\n",
              "Name             0\n",
              "Sex              0\n",
              "Age            177\n",
              "SibSp            0\n",
              "Parch            0\n",
              "Ticket           0\n",
              "Fare             0\n",
              "Embarked         0\n",
              "dtype: int64"
            ]
          },
          "execution_count": 71,
          "metadata": {},
          "output_type": "execute_result"
        }
      ],
      "source": [
        "train.isnull().sum()"
      ]
    },
    {
      "cell_type": "code",
      "execution_count": 72,
      "metadata": {
        "id": "cM2Q2Q-EjYJN"
      },
      "outputs": [],
      "source": [
        "probability = train['Age'].value_counts(normalize=True)\n",
        "missing = train[train['Age'].isnull()].index\n",
        "train.loc[missing, 'Age'] = np.random.choice(probability.index, size=len(missing), p=probability.values)"
      ]
    },
    {
      "cell_type": "code",
      "execution_count": 73,
      "metadata": {
        "colab": {
          "base_uri": "https://localhost:8080/"
        },
        "id": "N0yURQhHkb8m",
        "outputId": "1b19e6fd-7666-4106-ef90-8afeb94c45df"
      },
      "outputs": [
        {
          "data": {
            "text/plain": [
              "PassengerId    0\n",
              "Survived       0\n",
              "Pclass         0\n",
              "Name           0\n",
              "Sex            0\n",
              "Age            0\n",
              "SibSp          0\n",
              "Parch          0\n",
              "Ticket         0\n",
              "Fare           0\n",
              "Embarked       0\n",
              "dtype: int64"
            ]
          },
          "execution_count": 73,
          "metadata": {},
          "output_type": "execute_result"
        }
      ],
      "source": [
        "train.isnull().sum()"
      ]
    },
    {
      "cell_type": "markdown",
      "metadata": {
        "id": "-dqJHpbGkg9L"
      },
      "source": [
        "Pada blok code di atas, nilai feature 'Age' diisi untuk menghilangkan null values yang masih tersisa. Pada kasus ini, metode yang digunakan adalah pengisian berdasarkan nilai probabilitas umur yang mungkin muncul. Hal ini dilakukan agar nilai umur yang diisikan tidak semuanya bernilai sama, melainkan beragam menyesuaikan dengan probabilitas kemunculan umur dari data yang sudah ada sebelumnya."
      ]
    },
    {
      "cell_type": "code",
      "execution_count": 74,
      "metadata": {
        "id": "G5G4mZYHlO0w"
      },
      "outputs": [],
      "source": [
        "train = train.drop(['PassengerId', 'Name', 'Ticket', 'Fare'], axis=1)"
      ]
    },
    {
      "cell_type": "markdown",
      "metadata": {
        "id": "vqLQ-nkllbKA"
      },
      "source": [
        "Feature-feature yang tidak memiliki pengaruh signifikan terhadap survivability penumpang sebaiknya dihilangkan (di-drop) saja untuk mencegah terjadinya penurunan nilai akurasi model yang akan dibuat."
      ]
    },
    {
      "cell_type": "code",
      "execution_count": 75,
      "metadata": {
        "colab": {
          "base_uri": "https://localhost:8080/",
          "height": 206
        },
        "id": "O6n4GOuQlaxR",
        "outputId": "ff24e4db-5559-444f-f5a5-3282a57041a5"
      },
      "outputs": [
        {
          "data": {
            "text/html": [
              "<div>\n",
              "<style scoped>\n",
              "    .dataframe tbody tr th:only-of-type {\n",
              "        vertical-align: middle;\n",
              "    }\n",
              "\n",
              "    .dataframe tbody tr th {\n",
              "        vertical-align: top;\n",
              "    }\n",
              "\n",
              "    .dataframe thead th {\n",
              "        text-align: right;\n",
              "    }\n",
              "</style>\n",
              "<table border=\"1\" class=\"dataframe\">\n",
              "  <thead>\n",
              "    <tr style=\"text-align: right;\">\n",
              "      <th></th>\n",
              "      <th>Survived</th>\n",
              "      <th>Pclass</th>\n",
              "      <th>Sex</th>\n",
              "      <th>Age</th>\n",
              "      <th>SibSp</th>\n",
              "      <th>Parch</th>\n",
              "      <th>Embarked</th>\n",
              "    </tr>\n",
              "  </thead>\n",
              "  <tbody>\n",
              "    <tr>\n",
              "      <th>0</th>\n",
              "      <td>0</td>\n",
              "      <td>3</td>\n",
              "      <td>male</td>\n",
              "      <td>22.0</td>\n",
              "      <td>1</td>\n",
              "      <td>0</td>\n",
              "      <td>S</td>\n",
              "    </tr>\n",
              "    <tr>\n",
              "      <th>1</th>\n",
              "      <td>1</td>\n",
              "      <td>1</td>\n",
              "      <td>female</td>\n",
              "      <td>38.0</td>\n",
              "      <td>1</td>\n",
              "      <td>0</td>\n",
              "      <td>C</td>\n",
              "    </tr>\n",
              "    <tr>\n",
              "      <th>2</th>\n",
              "      <td>1</td>\n",
              "      <td>3</td>\n",
              "      <td>female</td>\n",
              "      <td>26.0</td>\n",
              "      <td>0</td>\n",
              "      <td>0</td>\n",
              "      <td>S</td>\n",
              "    </tr>\n",
              "    <tr>\n",
              "      <th>3</th>\n",
              "      <td>1</td>\n",
              "      <td>1</td>\n",
              "      <td>female</td>\n",
              "      <td>35.0</td>\n",
              "      <td>1</td>\n",
              "      <td>0</td>\n",
              "      <td>S</td>\n",
              "    </tr>\n",
              "    <tr>\n",
              "      <th>4</th>\n",
              "      <td>0</td>\n",
              "      <td>3</td>\n",
              "      <td>male</td>\n",
              "      <td>35.0</td>\n",
              "      <td>0</td>\n",
              "      <td>0</td>\n",
              "      <td>S</td>\n",
              "    </tr>\n",
              "  </tbody>\n",
              "</table>\n",
              "</div>"
            ],
            "text/plain": [
              "   Survived  Pclass     Sex   Age  SibSp  Parch Embarked\n",
              "0         0       3    male  22.0      1      0        S\n",
              "1         1       1  female  38.0      1      0        C\n",
              "2         1       3  female  26.0      0      0        S\n",
              "3         1       1  female  35.0      1      0        S\n",
              "4         0       3    male  35.0      0      0        S"
            ]
          },
          "execution_count": 75,
          "metadata": {},
          "output_type": "execute_result"
        }
      ],
      "source": [
        "train.head()"
      ]
    },
    {
      "cell_type": "markdown",
      "metadata": {
        "id": "tmHRq0RPmYL6"
      },
      "source": [
        "##Encoding Categorical Data"
      ]
    },
    {
      "cell_type": "code",
      "execution_count": 76,
      "metadata": {
        "id": "_SszyNEVl2-s"
      },
      "outputs": [],
      "source": [
        "from sklearn.preprocessing import LabelEncoder\n",
        "le = LabelEncoder()\n",
        "train['Sex'] = le.fit_transform(train['Sex'])"
      ]
    },
    {
      "cell_type": "code",
      "execution_count": 77,
      "metadata": {
        "colab": {
          "base_uri": "https://localhost:8080/",
          "height": 206
        },
        "id": "cUPkSJnkmAYP",
        "outputId": "ff3e5b67-5099-40cd-eaf7-2aab6210030f"
      },
      "outputs": [
        {
          "data": {
            "text/html": [
              "<div>\n",
              "<style scoped>\n",
              "    .dataframe tbody tr th:only-of-type {\n",
              "        vertical-align: middle;\n",
              "    }\n",
              "\n",
              "    .dataframe tbody tr th {\n",
              "        vertical-align: top;\n",
              "    }\n",
              "\n",
              "    .dataframe thead th {\n",
              "        text-align: right;\n",
              "    }\n",
              "</style>\n",
              "<table border=\"1\" class=\"dataframe\">\n",
              "  <thead>\n",
              "    <tr style=\"text-align: right;\">\n",
              "      <th></th>\n",
              "      <th>Survived</th>\n",
              "      <th>Pclass</th>\n",
              "      <th>Sex</th>\n",
              "      <th>Age</th>\n",
              "      <th>SibSp</th>\n",
              "      <th>Parch</th>\n",
              "      <th>Embarked</th>\n",
              "    </tr>\n",
              "  </thead>\n",
              "  <tbody>\n",
              "    <tr>\n",
              "      <th>0</th>\n",
              "      <td>0</td>\n",
              "      <td>3</td>\n",
              "      <td>1</td>\n",
              "      <td>22.0</td>\n",
              "      <td>1</td>\n",
              "      <td>0</td>\n",
              "      <td>S</td>\n",
              "    </tr>\n",
              "    <tr>\n",
              "      <th>1</th>\n",
              "      <td>1</td>\n",
              "      <td>1</td>\n",
              "      <td>0</td>\n",
              "      <td>38.0</td>\n",
              "      <td>1</td>\n",
              "      <td>0</td>\n",
              "      <td>C</td>\n",
              "    </tr>\n",
              "    <tr>\n",
              "      <th>2</th>\n",
              "      <td>1</td>\n",
              "      <td>3</td>\n",
              "      <td>0</td>\n",
              "      <td>26.0</td>\n",
              "      <td>0</td>\n",
              "      <td>0</td>\n",
              "      <td>S</td>\n",
              "    </tr>\n",
              "    <tr>\n",
              "      <th>3</th>\n",
              "      <td>1</td>\n",
              "      <td>1</td>\n",
              "      <td>0</td>\n",
              "      <td>35.0</td>\n",
              "      <td>1</td>\n",
              "      <td>0</td>\n",
              "      <td>S</td>\n",
              "    </tr>\n",
              "    <tr>\n",
              "      <th>4</th>\n",
              "      <td>0</td>\n",
              "      <td>3</td>\n",
              "      <td>1</td>\n",
              "      <td>35.0</td>\n",
              "      <td>0</td>\n",
              "      <td>0</td>\n",
              "      <td>S</td>\n",
              "    </tr>\n",
              "  </tbody>\n",
              "</table>\n",
              "</div>"
            ],
            "text/plain": [
              "   Survived  Pclass  Sex   Age  SibSp  Parch Embarked\n",
              "0         0       3    1  22.0      1      0        S\n",
              "1         1       1    0  38.0      1      0        C\n",
              "2         1       3    0  26.0      0      0        S\n",
              "3         1       1    0  35.0      1      0        S\n",
              "4         0       3    1  35.0      0      0        S"
            ]
          },
          "execution_count": 77,
          "metadata": {},
          "output_type": "execute_result"
        }
      ],
      "source": [
        "train.head()"
      ]
    },
    {
      "cell_type": "markdown",
      "metadata": {
        "id": "S10gFv_omhdI"
      },
      "source": [
        "Proses encoding yang pertama kali dilakukan adalah mengkodekan feature 'Sex' yang masih bernilai Male atau Female. Pada kasus ini, metode encoding yang digunakan adalah Label Encoding. Alasannya karena feature 'Sex' hanya memiliki unique value berupa string 'Male' atau 'Female', yang dapat dikodekan menjadi nilai numerik 0 dan 1 dengan sangat mudah. Nilai numerik pengkode ini tidak terlalu banyak (hanya 0 dan 1), sehingga tidak akan mengganggu akurasi model."
      ]
    },
    {
      "cell_type": "code",
      "execution_count": 78,
      "metadata": {
        "id": "k3VZpPQUng3A"
      },
      "outputs": [],
      "source": [
        "train = pd.get_dummies(train, columns=['Embarked'], dtype=int)"
      ]
    },
    {
      "cell_type": "code",
      "execution_count": 79,
      "metadata": {
        "colab": {
          "base_uri": "https://localhost:8080/",
          "height": 206
        },
        "id": "2clOGDIxnpx1",
        "outputId": "7f5a6878-6ae2-41ec-80c7-2e3bac8fadb0"
      },
      "outputs": [
        {
          "data": {
            "text/html": [
              "<div>\n",
              "<style scoped>\n",
              "    .dataframe tbody tr th:only-of-type {\n",
              "        vertical-align: middle;\n",
              "    }\n",
              "\n",
              "    .dataframe tbody tr th {\n",
              "        vertical-align: top;\n",
              "    }\n",
              "\n",
              "    .dataframe thead th {\n",
              "        text-align: right;\n",
              "    }\n",
              "</style>\n",
              "<table border=\"1\" class=\"dataframe\">\n",
              "  <thead>\n",
              "    <tr style=\"text-align: right;\">\n",
              "      <th></th>\n",
              "      <th>Survived</th>\n",
              "      <th>Pclass</th>\n",
              "      <th>Sex</th>\n",
              "      <th>Age</th>\n",
              "      <th>SibSp</th>\n",
              "      <th>Parch</th>\n",
              "      <th>Embarked_C</th>\n",
              "      <th>Embarked_Q</th>\n",
              "      <th>Embarked_S</th>\n",
              "    </tr>\n",
              "  </thead>\n",
              "  <tbody>\n",
              "    <tr>\n",
              "      <th>0</th>\n",
              "      <td>0</td>\n",
              "      <td>3</td>\n",
              "      <td>1</td>\n",
              "      <td>22.0</td>\n",
              "      <td>1</td>\n",
              "      <td>0</td>\n",
              "      <td>0</td>\n",
              "      <td>0</td>\n",
              "      <td>1</td>\n",
              "    </tr>\n",
              "    <tr>\n",
              "      <th>1</th>\n",
              "      <td>1</td>\n",
              "      <td>1</td>\n",
              "      <td>0</td>\n",
              "      <td>38.0</td>\n",
              "      <td>1</td>\n",
              "      <td>0</td>\n",
              "      <td>1</td>\n",
              "      <td>0</td>\n",
              "      <td>0</td>\n",
              "    </tr>\n",
              "    <tr>\n",
              "      <th>2</th>\n",
              "      <td>1</td>\n",
              "      <td>3</td>\n",
              "      <td>0</td>\n",
              "      <td>26.0</td>\n",
              "      <td>0</td>\n",
              "      <td>0</td>\n",
              "      <td>0</td>\n",
              "      <td>0</td>\n",
              "      <td>1</td>\n",
              "    </tr>\n",
              "    <tr>\n",
              "      <th>3</th>\n",
              "      <td>1</td>\n",
              "      <td>1</td>\n",
              "      <td>0</td>\n",
              "      <td>35.0</td>\n",
              "      <td>1</td>\n",
              "      <td>0</td>\n",
              "      <td>0</td>\n",
              "      <td>0</td>\n",
              "      <td>1</td>\n",
              "    </tr>\n",
              "    <tr>\n",
              "      <th>4</th>\n",
              "      <td>0</td>\n",
              "      <td>3</td>\n",
              "      <td>1</td>\n",
              "      <td>35.0</td>\n",
              "      <td>0</td>\n",
              "      <td>0</td>\n",
              "      <td>0</td>\n",
              "      <td>0</td>\n",
              "      <td>1</td>\n",
              "    </tr>\n",
              "  </tbody>\n",
              "</table>\n",
              "</div>"
            ],
            "text/plain": [
              "   Survived  Pclass  Sex   Age  SibSp  Parch  Embarked_C  Embarked_Q  \\\n",
              "0         0       3    1  22.0      1      0           0           0   \n",
              "1         1       1    0  38.0      1      0           1           0   \n",
              "2         1       3    0  26.0      0      0           0           0   \n",
              "3         1       1    0  35.0      1      0           0           0   \n",
              "4         0       3    1  35.0      0      0           0           0   \n",
              "\n",
              "   Embarked_S  \n",
              "0           1  \n",
              "1           0  \n",
              "2           1  \n",
              "3           1  \n",
              "4           1  "
            ]
          },
          "execution_count": 79,
          "metadata": {},
          "output_type": "execute_result"
        }
      ],
      "source": [
        "train.head()"
      ]
    },
    {
      "cell_type": "markdown",
      "metadata": {
        "id": "lHuCc8hrnta7"
      },
      "source": [
        "Feature selanjutnya yang masih berupa data kategorik adalah feature 'Embarked'. Feature ini akan diubah menjadi bentuk numerik dengan menggunakan metode One-Hot Encoding, khususnya dengan memanfaatkan library Pandas, method get_dummies. Metode ini cocok untuk feature yang memiliki jumlah unique value cukup banyak (dalam hal ini 3 nilai unique), agar pelabelan tidak menyebabkan kemungkinan sistem membaca label numerik dalam numerical order. Metode ini akan menghasilkan kolom baru yang merupakan bentuk matriks dari ketiga unique value tersebut, sehingga data numerik dari ketiga kolom yang dibentuk tidak akan menyebabkan numerical order."
      ]
    },
    {
      "cell_type": "markdown",
      "metadata": {
        "id": "R6Bi2Bhlo_jq"
      },
      "source": [
        "##Normalization/Standardization Numerical Data"
      ]
    },
    {
      "cell_type": "code",
      "execution_count": 80,
      "metadata": {
        "id": "rRQKBJsIpIFz"
      },
      "outputs": [],
      "source": [
        "train['Age'] = (train['Age'] - train['Age'].mean()) / train['Age'].std()"
      ]
    },
    {
      "cell_type": "code",
      "execution_count": 81,
      "metadata": {
        "colab": {
          "base_uri": "https://localhost:8080/",
          "height": 206
        },
        "id": "InB-pXNipQip",
        "outputId": "27ac115f-7e66-46bf-b4c3-aeff0cac7ac3"
      },
      "outputs": [
        {
          "data": {
            "text/html": [
              "<div>\n",
              "<style scoped>\n",
              "    .dataframe tbody tr th:only-of-type {\n",
              "        vertical-align: middle;\n",
              "    }\n",
              "\n",
              "    .dataframe tbody tr th {\n",
              "        vertical-align: top;\n",
              "    }\n",
              "\n",
              "    .dataframe thead th {\n",
              "        text-align: right;\n",
              "    }\n",
              "</style>\n",
              "<table border=\"1\" class=\"dataframe\">\n",
              "  <thead>\n",
              "    <tr style=\"text-align: right;\">\n",
              "      <th></th>\n",
              "      <th>Survived</th>\n",
              "      <th>Pclass</th>\n",
              "      <th>Sex</th>\n",
              "      <th>Age</th>\n",
              "      <th>SibSp</th>\n",
              "      <th>Parch</th>\n",
              "      <th>Embarked_C</th>\n",
              "      <th>Embarked_Q</th>\n",
              "      <th>Embarked_S</th>\n",
              "    </tr>\n",
              "  </thead>\n",
              "  <tbody>\n",
              "    <tr>\n",
              "      <th>0</th>\n",
              "      <td>0</td>\n",
              "      <td>3</td>\n",
              "      <td>1</td>\n",
              "      <td>-0.537013</td>\n",
              "      <td>1</td>\n",
              "      <td>0</td>\n",
              "      <td>0</td>\n",
              "      <td>0</td>\n",
              "      <td>1</td>\n",
              "    </tr>\n",
              "    <tr>\n",
              "      <th>1</th>\n",
              "      <td>1</td>\n",
              "      <td>1</td>\n",
              "      <td>0</td>\n",
              "      <td>0.581471</td>\n",
              "      <td>1</td>\n",
              "      <td>0</td>\n",
              "      <td>1</td>\n",
              "      <td>0</td>\n",
              "      <td>0</td>\n",
              "    </tr>\n",
              "    <tr>\n",
              "      <th>2</th>\n",
              "      <td>1</td>\n",
              "      <td>3</td>\n",
              "      <td>0</td>\n",
              "      <td>-0.257392</td>\n",
              "      <td>0</td>\n",
              "      <td>0</td>\n",
              "      <td>0</td>\n",
              "      <td>0</td>\n",
              "      <td>1</td>\n",
              "    </tr>\n",
              "    <tr>\n",
              "      <th>3</th>\n",
              "      <td>1</td>\n",
              "      <td>1</td>\n",
              "      <td>0</td>\n",
              "      <td>0.371755</td>\n",
              "      <td>1</td>\n",
              "      <td>0</td>\n",
              "      <td>0</td>\n",
              "      <td>0</td>\n",
              "      <td>1</td>\n",
              "    </tr>\n",
              "    <tr>\n",
              "      <th>4</th>\n",
              "      <td>0</td>\n",
              "      <td>3</td>\n",
              "      <td>1</td>\n",
              "      <td>0.371755</td>\n",
              "      <td>0</td>\n",
              "      <td>0</td>\n",
              "      <td>0</td>\n",
              "      <td>0</td>\n",
              "      <td>1</td>\n",
              "    </tr>\n",
              "  </tbody>\n",
              "</table>\n",
              "</div>"
            ],
            "text/plain": [
              "   Survived  Pclass  Sex       Age  SibSp  Parch  Embarked_C  Embarked_Q  \\\n",
              "0         0       3    1 -0.537013      1      0           0           0   \n",
              "1         1       1    0  0.581471      1      0           1           0   \n",
              "2         1       3    0 -0.257392      0      0           0           0   \n",
              "3         1       1    0  0.371755      1      0           0           0   \n",
              "4         0       3    1  0.371755      0      0           0           0   \n",
              "\n",
              "   Embarked_S  \n",
              "0           1  \n",
              "1           0  \n",
              "2           1  \n",
              "3           1  \n",
              "4           1  "
            ]
          },
          "execution_count": 81,
          "metadata": {},
          "output_type": "execute_result"
        }
      ],
      "source": [
        "train.head()"
      ]
    },
    {
      "cell_type": "markdown",
      "metadata": {
        "id": "2oVzIl1FpXUg"
      },
      "source": [
        "Langkah preprocessing selanjutnya adalah melakukan normalisasi atau standardisasi atas data-data numerik yang masih memiliki range cukup jauh. Dari data yang ada, terlihat bahwa range pada feature 'Age' masih memiliki kisaran yang cukup jauh, sehingga harus distandardisasi. Alasan pemilihan standardisasi adalah karena kemudahan formula dan akurasinya dalam statistika, sehingga diharapkan model memiliki akurasi yang juga cukup baik.\n",
        "Rumus standardisasi adalah sebagai berikut:"
      ]
    },
    {
      "cell_type": "markdown",
      "metadata": {
        "id": "f0EmSuGYqvvF"
      },
      "source": [
        "![image.png](data:image/png;base64,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)"
      ]
    },
    {
      "cell_type": "markdown",
      "metadata": {
        "id": "u0TJOfaFq-x-"
      },
      "source": [
        "#Model Implementation"
      ]
    },
    {
      "attachments": {},
      "cell_type": "markdown",
      "metadata": {
        "id": "EV3BkNR6rXFD"
      },
      "source": [
        "Model yang akan digunakan adalah Naive Bayes. Data pada train.csv akan di-split sebanyak 70% untuk train dan 30% untuk test."
      ]
    },
    {
      "cell_type": "code",
      "execution_count": 82,
      "metadata": {
        "id": "QmAmFBdprJMD"
      },
      "outputs": [],
      "source": [
        "from sklearn.model_selection import train_test_split\n",
        "\n",
        "y = train['Survived']\n",
        "X = train.drop(['Survived'], axis=1)\n",
        "\n",
        "x_train, x_test, y_train, y_test = train_test_split(X, y, test_size=0.3, random_state=27)"
      ]
    },
    {
      "cell_type": "code",
      "execution_count": 83,
      "metadata": {},
      "outputs": [
        {
          "name": "stdout",
          "output_type": "stream",
          "text": [
            "Accuracy =  0.7873134328358209\n"
          ]
        }
      ],
      "source": [
        "from sklearn.naive_bayes import GaussianNB\n",
        "from sklearn import metrics\n",
        "\n",
        "nb_model = GaussianNB()\n",
        "nb_model.fit(x_train, y_train)\n",
        "nb_predictions = nb_model.predict(x_test)\n",
        "accuracy = metrics.accuracy_score(y_test, nb_predictions)\n",
        "print(\"Accuracy = \", accuracy)"
      ]
    },
    {
      "cell_type": "code",
      "execution_count": 84,
      "metadata": {
        "colab": {
          "base_uri": "https://localhost:8080/"
        },
        "id": "K9F67yLvrurz",
        "outputId": "36cf2b3c-52d3-4bd2-a61b-4890ab940692"
      },
      "outputs": [
        {
          "name": "stdout",
          "output_type": "stream",
          "text": [
            "Accuracy score dengan Naive Bayes = 78.73 %\n",
            "Recall score dengan Naive Bayes = 72.28 %\n",
            "Precision score dengan Naive Bayes = 71.57 %\n",
            "F1-score dengan Naive Bayes = 71.92 %\n",
            "ROC-AUC-score dengan Naive Bayes = 77.46 %\n"
          ]
        }
      ],
      "source": [
        "from sklearn.metrics import accuracy_score, recall_score, precision_score, roc_auc_score, f1_score, roc_curve, confusion_matrix, ConfusionMatrixDisplay\n",
        "\n",
        "print(\"Accuracy score dengan Naive Bayes =\", round(accuracy_score(y_test, nb_predictions)*100, 2), '%')\n",
        "print(\"Recall score dengan Naive Bayes =\", round(recall_score(y_test, nb_predictions)*100, 2), '%')\n",
        "print(\"Precision score dengan Naive Bayes =\", round(precision_score(y_test, nb_predictions)*100, 2), '%')\n",
        "print(\"F1-score dengan Naive Bayes =\", round(f1_score(y_test, nb_predictions)*100, 2), '%')\n",
        "print(\"ROC-AUC-score dengan Naive Bayes =\", round(roc_auc_score(y_test, nb_predictions)*100, 2), '%')"
      ]
    },
    {
      "cell_type": "code",
      "execution_count": 85,
      "metadata": {
        "colab": {
          "base_uri": "https://localhost:8080/",
          "height": 449
        },
        "id": "EVVO9wZrsL9D",
        "outputId": "6c4d2f8e-6531-4351-d349-0c62ea636f3a"
      },
      "outputs": [
        {
          "data": {
            "image/png": "[encoded data removed]",
            "text/plain": [
              "<Figure size 640x480 with 2 Axes>"
            ]
          },
          "metadata": {},
          "output_type": "display_data"
        }
      ],
      "source": [
        "confusion_matrix = confusion_matrix(y_test, nb_predictions)\n",
        "display = ConfusionMatrixDisplay(confusion_matrix=confusion_matrix, display_labels=[False,True])\n",
        "display.plot()\n",
        "plt.show()"
      ]
    },
    {
      "cell_type": "code",
      "execution_count": 86,
      "metadata": {
        "colab": {
          "base_uri": "https://localhost:8080/",
          "height": 466
        },
        "id": "f4LuTirHsQ9R",
        "outputId": "3dce972a-769b-47f8-aa1e-77854d863411"
      },
      "outputs": [
        {
          "data": {
            "text/plain": [
              "Text(0, 0.5, 'True Positive Rate')"
            ]
          },
          "execution_count": 86,
          "metadata": {},
          "output_type": "execute_result"
        },
        {
          "data": {
            "image/png": "[encoded data removed]",
            "text/plain": [
              "<Figure size 640x480 with 1 Axes>"
            ]
          },
          "metadata": {},
          "output_type": "display_data"
        }
      ],
      "source": [
        "FPR, TPR, threshold = roc_curve(y_test, nb_predictions)\n",
        "plt.plot(FPR, TPR)\n",
        "plt.xlabel(\"False Positive Rate\")\n",
        "plt.ylabel(\"True Positive Rate\")"
      ]
    }
  ],
  "metadata": {
    "colab": {
      "provenance": []
    },
    "kernelspec": {
      "display_name": "Python 3",
      "name": "python3"
    },
    "language_info": {
      "codemirror_mode": {
        "name": "ipython",
        "version": 3
      },
      "file_extension": ".py",
      "mimetype": "text/x-python",
      "name": "python",
      "nbconvert_exporter": "python",
      "pygments_lexer": "ipython3",
      "version": "3.10.9"
    }
  },
  "nbformat": 4,
  "nbformat_minor": 0
}
